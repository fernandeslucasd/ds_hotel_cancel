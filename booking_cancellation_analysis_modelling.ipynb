{
 "cells": [
  {
   "cell_type": "markdown",
   "id": "d6a96a9c",
   "metadata": {},
   "source": [
    "# Context\n",
    "\n",
    "Uma rede de hoteis possui uma base de dados de reservas feitas por clientes de Julho de 2015 a Agosto de 2017. EM particular, essa base de dados relaciona as caracteristicas da reserva a quais delas foram canceladas ou nao pelos clientes. A empresa deseja buscar por insights que possam fornecer uma estrategia para evitar cancelamentos e também construir um modelo preditivo que possa antecipar esses cancelamentos, de modo que a empresa tenha tempo hábil para agir com ações de retenção.\n",
    "\n",
    "Aqui apresento a analise dos dados disponibilizados e um modelo de classificacao para prever cancelamentos de reservas pelos clientes. Esse notebook e composto pelas seguintes secoes:\n",
    "\n",
    "- Exploratory Data Analysis\n",
    "- Feature Engineering\n",
    "    - Missing values\n",
    "    - Dummy variables\n",
    "    - Train and test sets\n",
    "- Model selection\n",
    "    - Random Forest\n",
    "    - XGBoost\n",
    "- Further improvements\n",
    "- Conclusions"
   ]
  },
  {
   "cell_type": "code",
   "execution_count": 1,
   "id": "8ce8e51b",
   "metadata": {},
   "outputs": [],
   "source": [
    "import pandas as pd\n",
    "import numpy as np\n",
    "\n",
    "import seaborn as sns\n",
    "import matplotlib.pyplot as plt"
   ]
  },
  {
   "cell_type": "markdown",
   "id": "14c2256a",
   "metadata": {},
   "source": [
    "# Exploratory Data Analysis"
   ]
  },
  {
   "cell_type": "markdown",
   "id": "b9966763",
   "metadata": {},
   "source": [
    "Vamos comecar carregando o conjunto de dados disponivel e calculando algumas estatisticas descritivas."
   ]
  },
  {
   "cell_type": "code",
   "execution_count": 3,
   "id": "98d68d14",
   "metadata": {},
   "outputs": [
    {
     "data": {
      "text/html": [
       "<div>\n",
       "<style scoped>\n",
       "    .dataframe tbody tr th:only-of-type {\n",
       "        vertical-align: middle;\n",
       "    }\n",
       "\n",
       "    .dataframe tbody tr th {\n",
       "        vertical-align: top;\n",
       "    }\n",
       "\n",
       "    .dataframe thead th {\n",
       "        text-align: right;\n",
       "    }\n",
       "</style>\n",
       "<table border=\"1\" class=\"dataframe\">\n",
       "  <thead>\n",
       "    <tr style=\"text-align: right;\">\n",
       "      <th></th>\n",
       "      <th>type</th>\n",
       "      <th>cancellation</th>\n",
       "      <th>days_between_booking_arrival</th>\n",
       "      <th>year_arrival_date</th>\n",
       "      <th>month_arrival_date</th>\n",
       "      <th>week_number_arrival_date</th>\n",
       "      <th>day_of_month_arrival_date</th>\n",
       "      <th>num_weekend_nights</th>\n",
       "      <th>num_workweek_nights</th>\n",
       "      <th>num_adults</th>\n",
       "      <th>...</th>\n",
       "      <th>num_previous_stays</th>\n",
       "      <th>reserved_room</th>\n",
       "      <th>changes_between_booking_arrival</th>\n",
       "      <th>deposit_policy</th>\n",
       "      <th>id_travel_agency_booking</th>\n",
       "      <th>id_person_booking</th>\n",
       "      <th>customer_type</th>\n",
       "      <th>avg_price</th>\n",
       "      <th>required_car_parking_spaces</th>\n",
       "      <th>total_of_special_requests</th>\n",
       "    </tr>\n",
       "  </thead>\n",
       "  <tbody>\n",
       "    <tr>\n",
       "      <th>0</th>\n",
       "      <td>Fancy Hotel</td>\n",
       "      <td>0</td>\n",
       "      <td>342</td>\n",
       "      <td>2015</td>\n",
       "      <td>July</td>\n",
       "      <td>27</td>\n",
       "      <td>1</td>\n",
       "      <td>0</td>\n",
       "      <td>0</td>\n",
       "      <td>2</td>\n",
       "      <td>...</td>\n",
       "      <td>0</td>\n",
       "      <td>C</td>\n",
       "      <td>3</td>\n",
       "      <td>No Deposit</td>\n",
       "      <td>NaN</td>\n",
       "      <td>NaN</td>\n",
       "      <td>0</td>\n",
       "      <td>0.0</td>\n",
       "      <td>0</td>\n",
       "      <td>0</td>\n",
       "    </tr>\n",
       "    <tr>\n",
       "      <th>1</th>\n",
       "      <td>Fancy Hotel</td>\n",
       "      <td>0</td>\n",
       "      <td>737</td>\n",
       "      <td>2015</td>\n",
       "      <td>July</td>\n",
       "      <td>27</td>\n",
       "      <td>1</td>\n",
       "      <td>0</td>\n",
       "      <td>0</td>\n",
       "      <td>2</td>\n",
       "      <td>...</td>\n",
       "      <td>0</td>\n",
       "      <td>C</td>\n",
       "      <td>4</td>\n",
       "      <td>No Deposit</td>\n",
       "      <td>NaN</td>\n",
       "      <td>NaN</td>\n",
       "      <td>0</td>\n",
       "      <td>0.0</td>\n",
       "      <td>0</td>\n",
       "      <td>0</td>\n",
       "    </tr>\n",
       "    <tr>\n",
       "      <th>2</th>\n",
       "      <td>Fancy Hotel</td>\n",
       "      <td>0</td>\n",
       "      <td>7</td>\n",
       "      <td>2015</td>\n",
       "      <td>July</td>\n",
       "      <td>27</td>\n",
       "      <td>1</td>\n",
       "      <td>0</td>\n",
       "      <td>1</td>\n",
       "      <td>1</td>\n",
       "      <td>...</td>\n",
       "      <td>0</td>\n",
       "      <td>A</td>\n",
       "      <td>0</td>\n",
       "      <td>No Deposit</td>\n",
       "      <td>NaN</td>\n",
       "      <td>NaN</td>\n",
       "      <td>0</td>\n",
       "      <td>75.0</td>\n",
       "      <td>0</td>\n",
       "      <td>0</td>\n",
       "    </tr>\n",
       "    <tr>\n",
       "      <th>3</th>\n",
       "      <td>Fancy Hotel</td>\n",
       "      <td>0</td>\n",
       "      <td>13</td>\n",
       "      <td>2015</td>\n",
       "      <td>July</td>\n",
       "      <td>27</td>\n",
       "      <td>1</td>\n",
       "      <td>0</td>\n",
       "      <td>1</td>\n",
       "      <td>1</td>\n",
       "      <td>...</td>\n",
       "      <td>0</td>\n",
       "      <td>A</td>\n",
       "      <td>0</td>\n",
       "      <td>No Deposit</td>\n",
       "      <td>304.0</td>\n",
       "      <td>NaN</td>\n",
       "      <td>0</td>\n",
       "      <td>75.0</td>\n",
       "      <td>0</td>\n",
       "      <td>0</td>\n",
       "    </tr>\n",
       "    <tr>\n",
       "      <th>4</th>\n",
       "      <td>Fancy Hotel</td>\n",
       "      <td>0</td>\n",
       "      <td>14</td>\n",
       "      <td>2015</td>\n",
       "      <td>July</td>\n",
       "      <td>27</td>\n",
       "      <td>1</td>\n",
       "      <td>0</td>\n",
       "      <td>2</td>\n",
       "      <td>2</td>\n",
       "      <td>...</td>\n",
       "      <td>0</td>\n",
       "      <td>A</td>\n",
       "      <td>0</td>\n",
       "      <td>No Deposit</td>\n",
       "      <td>240.0</td>\n",
       "      <td>NaN</td>\n",
       "      <td>0</td>\n",
       "      <td>98.0</td>\n",
       "      <td>0</td>\n",
       "      <td>1</td>\n",
       "    </tr>\n",
       "  </tbody>\n",
       "</table>\n",
       "<p>5 rows × 28 columns</p>\n",
       "</div>"
      ],
      "text/plain": [
       "          type  cancellation  days_between_booking_arrival  year_arrival_date  \\\n",
       "0  Fancy Hotel             0                           342               2015   \n",
       "1  Fancy Hotel             0                           737               2015   \n",
       "2  Fancy Hotel             0                             7               2015   \n",
       "3  Fancy Hotel             0                            13               2015   \n",
       "4  Fancy Hotel             0                            14               2015   \n",
       "\n",
       "  month_arrival_date  week_number_arrival_date  day_of_month_arrival_date  \\\n",
       "0               July                        27                          1   \n",
       "1               July                        27                          1   \n",
       "2               July                        27                          1   \n",
       "3               July                        27                          1   \n",
       "4               July                        27                          1   \n",
       "\n",
       "   num_weekend_nights  num_workweek_nights  num_adults  ...  \\\n",
       "0                   0                    0           2  ...   \n",
       "1                   0                    0           2  ...   \n",
       "2                   0                    1           1  ...   \n",
       "3                   0                    1           1  ...   \n",
       "4                   0                    2           2  ...   \n",
       "\n",
       "   num_previous_stays  reserved_room  changes_between_booking_arrival  \\\n",
       "0                   0              C                                3   \n",
       "1                   0              C                                4   \n",
       "2                   0              A                                0   \n",
       "3                   0              A                                0   \n",
       "4                   0              A                                0   \n",
       "\n",
       "  deposit_policy  id_travel_agency_booking  id_person_booking  customer_type  \\\n",
       "0     No Deposit                       NaN                NaN              0   \n",
       "1     No Deposit                       NaN                NaN              0   \n",
       "2     No Deposit                       NaN                NaN              0   \n",
       "3     No Deposit                     304.0                NaN              0   \n",
       "4     No Deposit                     240.0                NaN              0   \n",
       "\n",
       "   avg_price  required_car_parking_spaces total_of_special_requests  \n",
       "0        0.0                            0                         0  \n",
       "1        0.0                            0                         0  \n",
       "2       75.0                            0                         0  \n",
       "3       75.0                            0                         0  \n",
       "4       98.0                            0                         1  \n",
       "\n",
       "[5 rows x 28 columns]"
      ]
     },
     "execution_count": 3,
     "metadata": {},
     "output_type": "execute_result"
    }
   ],
   "source": [
    "df = pd.read_csv('cancellation_prediction.csv')\n",
    "df.head()"
   ]
  },
  {
   "cell_type": "code",
   "execution_count": 4,
   "id": "8085b28d",
   "metadata": {},
   "outputs": [
    {
     "name": "stdout",
     "output_type": "stream",
     "text": [
      "<class 'pandas.core.frame.DataFrame'>\n",
      "RangeIndex: 119390 entries, 0 to 119389\n",
      "Data columns (total 28 columns):\n",
      " #   Column                           Non-Null Count   Dtype  \n",
      "---  ------                           --------------   -----  \n",
      " 0   type                             119390 non-null  object \n",
      " 1   cancellation                     119390 non-null  int64  \n",
      " 2   days_between_booking_arrival     119390 non-null  int64  \n",
      " 3   year_arrival_date                119390 non-null  int64  \n",
      " 4   month_arrival_date               119390 non-null  object \n",
      " 5   week_number_arrival_date         119390 non-null  int64  \n",
      " 6   day_of_month_arrival_date        119390 non-null  int64  \n",
      " 7   num_weekend_nights               119390 non-null  int64  \n",
      " 8   num_workweek_nights              119390 non-null  int64  \n",
      " 9   num_adults                       119390 non-null  int64  \n",
      " 10  num_children                     119386 non-null  float64\n",
      " 11  num_babies                       119390 non-null  int64  \n",
      " 12  breakfast                        119390 non-null  bool   \n",
      " 13  country                          118902 non-null  object \n",
      " 14  market_segment                   119390 non-null  int64  \n",
      " 15  distribution_channel             119390 non-null  int64  \n",
      " 16  repeated_guest                   119390 non-null  int64  \n",
      " 17  num_previous_cancellations       119390 non-null  int64  \n",
      " 18  num_previous_stays               119390 non-null  int64  \n",
      " 19  reserved_room                    119390 non-null  object \n",
      " 20  changes_between_booking_arrival  119390 non-null  int64  \n",
      " 21  deposit_policy                   119390 non-null  object \n",
      " 22  id_travel_agency_booking         103050 non-null  float64\n",
      " 23  id_person_booking                6797 non-null    float64\n",
      " 24  customer_type                    119390 non-null  int64  \n",
      " 25  avg_price                        119390 non-null  float64\n",
      " 26  required_car_parking_spaces      119390 non-null  int64  \n",
      " 27  total_of_special_requests        119390 non-null  int64  \n",
      "dtypes: bool(1), float64(4), int64(18), object(5)\n",
      "memory usage: 24.7+ MB\n"
     ]
    }
   ],
   "source": [
    "df.info()"
   ]
  },
  {
   "cell_type": "code",
   "execution_count": 9,
   "id": "18e3b3ff",
   "metadata": {},
   "outputs": [
    {
     "data": {
      "text/html": [
       "<div>\n",
       "<style scoped>\n",
       "    .dataframe tbody tr th:only-of-type {\n",
       "        vertical-align: middle;\n",
       "    }\n",
       "\n",
       "    .dataframe tbody tr th {\n",
       "        vertical-align: top;\n",
       "    }\n",
       "\n",
       "    .dataframe thead th {\n",
       "        text-align: right;\n",
       "    }\n",
       "</style>\n",
       "<table border=\"1\" class=\"dataframe\">\n",
       "  <thead>\n",
       "    <tr style=\"text-align: right;\">\n",
       "      <th></th>\n",
       "      <th>count</th>\n",
       "      <th>mean</th>\n",
       "      <th>std</th>\n",
       "      <th>min</th>\n",
       "      <th>25%</th>\n",
       "      <th>50%</th>\n",
       "      <th>75%</th>\n",
       "      <th>max</th>\n",
       "    </tr>\n",
       "  </thead>\n",
       "  <tbody>\n",
       "    <tr>\n",
       "      <th>cancellation</th>\n",
       "      <td>119390.0</td>\n",
       "      <td>0.370416</td>\n",
       "      <td>0.482918</td>\n",
       "      <td>0.0</td>\n",
       "      <td>0.00</td>\n",
       "      <td>0.000</td>\n",
       "      <td>1.0</td>\n",
       "      <td>1.0</td>\n",
       "    </tr>\n",
       "    <tr>\n",
       "      <th>days_between_booking_arrival</th>\n",
       "      <td>119390.0</td>\n",
       "      <td>104.011416</td>\n",
       "      <td>106.863097</td>\n",
       "      <td>0.0</td>\n",
       "      <td>18.00</td>\n",
       "      <td>69.000</td>\n",
       "      <td>160.0</td>\n",
       "      <td>737.0</td>\n",
       "    </tr>\n",
       "    <tr>\n",
       "      <th>num_weekend_nights</th>\n",
       "      <td>119390.0</td>\n",
       "      <td>0.927599</td>\n",
       "      <td>0.998613</td>\n",
       "      <td>0.0</td>\n",
       "      <td>0.00</td>\n",
       "      <td>1.000</td>\n",
       "      <td>2.0</td>\n",
       "      <td>19.0</td>\n",
       "    </tr>\n",
       "    <tr>\n",
       "      <th>num_workweek_nights</th>\n",
       "      <td>119390.0</td>\n",
       "      <td>2.500302</td>\n",
       "      <td>1.908286</td>\n",
       "      <td>0.0</td>\n",
       "      <td>1.00</td>\n",
       "      <td>2.000</td>\n",
       "      <td>3.0</td>\n",
       "      <td>50.0</td>\n",
       "    </tr>\n",
       "    <tr>\n",
       "      <th>num_adults</th>\n",
       "      <td>119390.0</td>\n",
       "      <td>1.856403</td>\n",
       "      <td>0.579261</td>\n",
       "      <td>0.0</td>\n",
       "      <td>2.00</td>\n",
       "      <td>2.000</td>\n",
       "      <td>2.0</td>\n",
       "      <td>55.0</td>\n",
       "    </tr>\n",
       "    <tr>\n",
       "      <th>num_children</th>\n",
       "      <td>119386.0</td>\n",
       "      <td>0.103890</td>\n",
       "      <td>0.398561</td>\n",
       "      <td>0.0</td>\n",
       "      <td>0.00</td>\n",
       "      <td>0.000</td>\n",
       "      <td>0.0</td>\n",
       "      <td>10.0</td>\n",
       "    </tr>\n",
       "    <tr>\n",
       "      <th>num_babies</th>\n",
       "      <td>119390.0</td>\n",
       "      <td>0.007949</td>\n",
       "      <td>0.097436</td>\n",
       "      <td>0.0</td>\n",
       "      <td>0.00</td>\n",
       "      <td>0.000</td>\n",
       "      <td>0.0</td>\n",
       "      <td>10.0</td>\n",
       "    </tr>\n",
       "    <tr>\n",
       "      <th>market_segment</th>\n",
       "      <td>119390.0</td>\n",
       "      <td>2.467577</td>\n",
       "      <td>1.420967</td>\n",
       "      <td>0.0</td>\n",
       "      <td>2.00</td>\n",
       "      <td>2.000</td>\n",
       "      <td>3.0</td>\n",
       "      <td>7.0</td>\n",
       "    </tr>\n",
       "    <tr>\n",
       "      <th>distribution_channel</th>\n",
       "      <td>119390.0</td>\n",
       "      <td>1.702019</td>\n",
       "      <td>0.681400</td>\n",
       "      <td>0.0</td>\n",
       "      <td>2.00</td>\n",
       "      <td>2.000</td>\n",
       "      <td>2.0</td>\n",
       "      <td>4.0</td>\n",
       "    </tr>\n",
       "    <tr>\n",
       "      <th>repeated_guest</th>\n",
       "      <td>119390.0</td>\n",
       "      <td>0.031912</td>\n",
       "      <td>0.175767</td>\n",
       "      <td>0.0</td>\n",
       "      <td>0.00</td>\n",
       "      <td>0.000</td>\n",
       "      <td>0.0</td>\n",
       "      <td>1.0</td>\n",
       "    </tr>\n",
       "    <tr>\n",
       "      <th>num_previous_cancellations</th>\n",
       "      <td>119390.0</td>\n",
       "      <td>0.087118</td>\n",
       "      <td>0.844336</td>\n",
       "      <td>0.0</td>\n",
       "      <td>0.00</td>\n",
       "      <td>0.000</td>\n",
       "      <td>0.0</td>\n",
       "      <td>26.0</td>\n",
       "    </tr>\n",
       "    <tr>\n",
       "      <th>num_previous_stays</th>\n",
       "      <td>119390.0</td>\n",
       "      <td>0.137097</td>\n",
       "      <td>1.497437</td>\n",
       "      <td>0.0</td>\n",
       "      <td>0.00</td>\n",
       "      <td>0.000</td>\n",
       "      <td>0.0</td>\n",
       "      <td>72.0</td>\n",
       "    </tr>\n",
       "    <tr>\n",
       "      <th>changes_between_booking_arrival</th>\n",
       "      <td>119390.0</td>\n",
       "      <td>0.221124</td>\n",
       "      <td>0.652306</td>\n",
       "      <td>0.0</td>\n",
       "      <td>0.00</td>\n",
       "      <td>0.000</td>\n",
       "      <td>0.0</td>\n",
       "      <td>21.0</td>\n",
       "    </tr>\n",
       "    <tr>\n",
       "      <th>id_travel_agency_booking</th>\n",
       "      <td>103050.0</td>\n",
       "      <td>86.693382</td>\n",
       "      <td>110.774548</td>\n",
       "      <td>1.0</td>\n",
       "      <td>9.00</td>\n",
       "      <td>14.000</td>\n",
       "      <td>229.0</td>\n",
       "      <td>535.0</td>\n",
       "    </tr>\n",
       "    <tr>\n",
       "      <th>id_person_booking</th>\n",
       "      <td>6797.0</td>\n",
       "      <td>189.266735</td>\n",
       "      <td>131.655015</td>\n",
       "      <td>6.0</td>\n",
       "      <td>62.00</td>\n",
       "      <td>179.000</td>\n",
       "      <td>270.0</td>\n",
       "      <td>543.0</td>\n",
       "    </tr>\n",
       "    <tr>\n",
       "      <th>customer_type</th>\n",
       "      <td>119390.0</td>\n",
       "      <td>0.469512</td>\n",
       "      <td>0.836030</td>\n",
       "      <td>0.0</td>\n",
       "      <td>0.00</td>\n",
       "      <td>0.000</td>\n",
       "      <td>0.0</td>\n",
       "      <td>3.0</td>\n",
       "    </tr>\n",
       "    <tr>\n",
       "      <th>avg_price</th>\n",
       "      <td>119390.0</td>\n",
       "      <td>101.718744</td>\n",
       "      <td>47.823771</td>\n",
       "      <td>0.0</td>\n",
       "      <td>69.29</td>\n",
       "      <td>94.575</td>\n",
       "      <td>126.0</td>\n",
       "      <td>300.0</td>\n",
       "    </tr>\n",
       "    <tr>\n",
       "      <th>required_car_parking_spaces</th>\n",
       "      <td>119390.0</td>\n",
       "      <td>0.062518</td>\n",
       "      <td>0.245291</td>\n",
       "      <td>0.0</td>\n",
       "      <td>0.00</td>\n",
       "      <td>0.000</td>\n",
       "      <td>0.0</td>\n",
       "      <td>8.0</td>\n",
       "    </tr>\n",
       "    <tr>\n",
       "      <th>total_of_special_requests</th>\n",
       "      <td>119390.0</td>\n",
       "      <td>0.571363</td>\n",
       "      <td>0.792798</td>\n",
       "      <td>0.0</td>\n",
       "      <td>0.00</td>\n",
       "      <td>0.000</td>\n",
       "      <td>1.0</td>\n",
       "      <td>5.0</td>\n",
       "    </tr>\n",
       "  </tbody>\n",
       "</table>\n",
       "</div>"
      ],
      "text/plain": [
       "                                    count        mean         std  min    25%  \\\n",
       "cancellation                     119390.0    0.370416    0.482918  0.0   0.00   \n",
       "days_between_booking_arrival     119390.0  104.011416  106.863097  0.0  18.00   \n",
       "num_weekend_nights               119390.0    0.927599    0.998613  0.0   0.00   \n",
       "num_workweek_nights              119390.0    2.500302    1.908286  0.0   1.00   \n",
       "num_adults                       119390.0    1.856403    0.579261  0.0   2.00   \n",
       "num_children                     119386.0    0.103890    0.398561  0.0   0.00   \n",
       "num_babies                       119390.0    0.007949    0.097436  0.0   0.00   \n",
       "market_segment                   119390.0    2.467577    1.420967  0.0   2.00   \n",
       "distribution_channel             119390.0    1.702019    0.681400  0.0   2.00   \n",
       "repeated_guest                   119390.0    0.031912    0.175767  0.0   0.00   \n",
       "num_previous_cancellations       119390.0    0.087118    0.844336  0.0   0.00   \n",
       "num_previous_stays               119390.0    0.137097    1.497437  0.0   0.00   \n",
       "changes_between_booking_arrival  119390.0    0.221124    0.652306  0.0   0.00   \n",
       "id_travel_agency_booking         103050.0   86.693382  110.774548  1.0   9.00   \n",
       "id_person_booking                  6797.0  189.266735  131.655015  6.0  62.00   \n",
       "customer_type                    119390.0    0.469512    0.836030  0.0   0.00   \n",
       "avg_price                        119390.0  101.718744   47.823771  0.0  69.29   \n",
       "required_car_parking_spaces      119390.0    0.062518    0.245291  0.0   0.00   \n",
       "total_of_special_requests        119390.0    0.571363    0.792798  0.0   0.00   \n",
       "\n",
       "                                     50%    75%    max  \n",
       "cancellation                       0.000    1.0    1.0  \n",
       "days_between_booking_arrival      69.000  160.0  737.0  \n",
       "num_weekend_nights                 1.000    2.0   19.0  \n",
       "num_workweek_nights                2.000    3.0   50.0  \n",
       "num_adults                         2.000    2.0   55.0  \n",
       "num_children                       0.000    0.0   10.0  \n",
       "num_babies                         0.000    0.0   10.0  \n",
       "market_segment                     2.000    3.0    7.0  \n",
       "distribution_channel               2.000    2.0    4.0  \n",
       "repeated_guest                     0.000    0.0    1.0  \n",
       "num_previous_cancellations         0.000    0.0   26.0  \n",
       "num_previous_stays                 0.000    0.0   72.0  \n",
       "changes_between_booking_arrival    0.000    0.0   21.0  \n",
       "id_travel_agency_booking          14.000  229.0  535.0  \n",
       "id_person_booking                179.000  270.0  543.0  \n",
       "customer_type                      0.000    0.0    3.0  \n",
       "avg_price                         94.575  126.0  300.0  \n",
       "required_car_parking_spaces        0.000    0.0    8.0  \n",
       "total_of_special_requests          0.000    1.0    5.0  "
      ]
     },
     "execution_count": 9,
     "metadata": {},
     "output_type": "execute_result"
    }
   ],
   "source": [
    "df[[x for x in df.columns if 'date' not in x]].describe().transpose()"
   ]
  },
  {
   "cell_type": "markdown",
   "id": "91cb7244",
   "metadata": {},
   "source": [
    "Nessa visualizacao inicial, vemos que o conjunto de dados eh composto por 119390 entradas com dados de reservas na rede de hoteis. Cada uma das reservas eh descrita por 28 caracteristicas, numericas e categoricas, dentre as quais se apresenta uma variavel binaria \"cancellation\" que corresponde ao cancelamento ou nao da reserva. Entre as variaveis numericas, \"days_between_booking_arrival\" e \"avg_price\" sao as que apresentam distribuicoes mais extensas de valores, enquanto as demais correspondem a variaveis inteiras com medianas entre 0 e 2.\n",
    "\n",
    "Nota-se tambem que algumas dessas variaveis apresentam missing values. Quais sao elas?"
   ]
  },
  {
   "cell_type": "code",
   "execution_count": 15,
   "id": "fa845460",
   "metadata": {},
   "outputs": [
    {
     "data": {
      "text/plain": [
       "num_children                     4\n",
       "country                        488\n",
       "id_travel_agency_booking     16340\n",
       "id_person_booking           112593\n",
       "dtype: int64"
      ]
     },
     "execution_count": 15,
     "metadata": {},
     "output_type": "execute_result"
    }
   ],
   "source": [
    "df[df.columns[df.isnull().sum()!=0]].isnull().sum()"
   ]
  },
  {
   "cell_type": "markdown",
   "id": "bc751d4d",
   "metadata": {},
   "source": [
    "Procederemos com a imputacao dos dados faltantes na secao de pre-processamento.\n",
    "\n",
    "Outro aspecto importante eh checar se ha dados de reserva duplicados."
   ]
  },
  {
   "cell_type": "code",
   "execution_count": 26,
   "id": "69e813bd",
   "metadata": {},
   "outputs": [
    {
     "data": {
      "text/html": [
       "<div>\n",
       "<style scoped>\n",
       "    .dataframe tbody tr th:only-of-type {\n",
       "        vertical-align: middle;\n",
       "    }\n",
       "\n",
       "    .dataframe tbody tr th {\n",
       "        vertical-align: top;\n",
       "    }\n",
       "\n",
       "    .dataframe thead th {\n",
       "        text-align: right;\n",
       "    }\n",
       "</style>\n",
       "<table border=\"1\" class=\"dataframe\">\n",
       "  <thead>\n",
       "    <tr style=\"text-align: right;\">\n",
       "      <th></th>\n",
       "      <th>type</th>\n",
       "      <th>cancellation</th>\n",
       "      <th>days_between_booking_arrival</th>\n",
       "      <th>year_arrival_date</th>\n",
       "      <th>month_arrival_date</th>\n",
       "      <th>week_number_arrival_date</th>\n",
       "      <th>day_of_month_arrival_date</th>\n",
       "      <th>num_weekend_nights</th>\n",
       "      <th>num_workweek_nights</th>\n",
       "      <th>num_adults</th>\n",
       "      <th>...</th>\n",
       "      <th>num_previous_stays</th>\n",
       "      <th>reserved_room</th>\n",
       "      <th>changes_between_booking_arrival</th>\n",
       "      <th>deposit_policy</th>\n",
       "      <th>id_travel_agency_booking</th>\n",
       "      <th>id_person_booking</th>\n",
       "      <th>customer_type</th>\n",
       "      <th>avg_price</th>\n",
       "      <th>required_car_parking_spaces</th>\n",
       "      <th>total_of_special_requests</th>\n",
       "    </tr>\n",
       "  </thead>\n",
       "  <tbody>\n",
       "    <tr>\n",
       "      <th>5</th>\n",
       "      <td>Fancy Hotel</td>\n",
       "      <td>0</td>\n",
       "      <td>14</td>\n",
       "      <td>2015</td>\n",
       "      <td>July</td>\n",
       "      <td>27</td>\n",
       "      <td>1</td>\n",
       "      <td>0</td>\n",
       "      <td>2</td>\n",
       "      <td>2</td>\n",
       "      <td>...</td>\n",
       "      <td>0</td>\n",
       "      <td>A</td>\n",
       "      <td>0</td>\n",
       "      <td>No Deposit</td>\n",
       "      <td>240.0</td>\n",
       "      <td>NaN</td>\n",
       "      <td>0</td>\n",
       "      <td>98.00</td>\n",
       "      <td>0</td>\n",
       "      <td>1</td>\n",
       "    </tr>\n",
       "    <tr>\n",
       "      <th>22</th>\n",
       "      <td>Fancy Hotel</td>\n",
       "      <td>0</td>\n",
       "      <td>72</td>\n",
       "      <td>2015</td>\n",
       "      <td>July</td>\n",
       "      <td>27</td>\n",
       "      <td>1</td>\n",
       "      <td>2</td>\n",
       "      <td>4</td>\n",
       "      <td>2</td>\n",
       "      <td>...</td>\n",
       "      <td>0</td>\n",
       "      <td>A</td>\n",
       "      <td>1</td>\n",
       "      <td>No Deposit</td>\n",
       "      <td>250.0</td>\n",
       "      <td>NaN</td>\n",
       "      <td>0</td>\n",
       "      <td>84.67</td>\n",
       "      <td>0</td>\n",
       "      <td>1</td>\n",
       "    </tr>\n",
       "    <tr>\n",
       "      <th>43</th>\n",
       "      <td>Fancy Hotel</td>\n",
       "      <td>0</td>\n",
       "      <td>70</td>\n",
       "      <td>2015</td>\n",
       "      <td>July</td>\n",
       "      <td>27</td>\n",
       "      <td>2</td>\n",
       "      <td>2</td>\n",
       "      <td>3</td>\n",
       "      <td>2</td>\n",
       "      <td>...</td>\n",
       "      <td>0</td>\n",
       "      <td>E</td>\n",
       "      <td>0</td>\n",
       "      <td>No Deposit</td>\n",
       "      <td>250.0</td>\n",
       "      <td>NaN</td>\n",
       "      <td>0</td>\n",
       "      <td>137.00</td>\n",
       "      <td>0</td>\n",
       "      <td>1</td>\n",
       "    </tr>\n",
       "    <tr>\n",
       "      <th>138</th>\n",
       "      <td>Fancy Hotel</td>\n",
       "      <td>1</td>\n",
       "      <td>5</td>\n",
       "      <td>2015</td>\n",
       "      <td>July</td>\n",
       "      <td>28</td>\n",
       "      <td>5</td>\n",
       "      <td>1</td>\n",
       "      <td>0</td>\n",
       "      <td>2</td>\n",
       "      <td>...</td>\n",
       "      <td>0</td>\n",
       "      <td>D</td>\n",
       "      <td>0</td>\n",
       "      <td>No Deposit</td>\n",
       "      <td>240.0</td>\n",
       "      <td>NaN</td>\n",
       "      <td>0</td>\n",
       "      <td>97.00</td>\n",
       "      <td>0</td>\n",
       "      <td>0</td>\n",
       "    </tr>\n",
       "    <tr>\n",
       "      <th>200</th>\n",
       "      <td>Fancy Hotel</td>\n",
       "      <td>0</td>\n",
       "      <td>0</td>\n",
       "      <td>2015</td>\n",
       "      <td>July</td>\n",
       "      <td>28</td>\n",
       "      <td>7</td>\n",
       "      <td>0</td>\n",
       "      <td>1</td>\n",
       "      <td>1</td>\n",
       "      <td>...</td>\n",
       "      <td>0</td>\n",
       "      <td>A</td>\n",
       "      <td>0</td>\n",
       "      <td>No Deposit</td>\n",
       "      <td>240.0</td>\n",
       "      <td>NaN</td>\n",
       "      <td>0</td>\n",
       "      <td>109.80</td>\n",
       "      <td>0</td>\n",
       "      <td>3</td>\n",
       "    </tr>\n",
       "    <tr>\n",
       "      <th>...</th>\n",
       "      <td>...</td>\n",
       "      <td>...</td>\n",
       "      <td>...</td>\n",
       "      <td>...</td>\n",
       "      <td>...</td>\n",
       "      <td>...</td>\n",
       "      <td>...</td>\n",
       "      <td>...</td>\n",
       "      <td>...</td>\n",
       "      <td>...</td>\n",
       "      <td>...</td>\n",
       "      <td>...</td>\n",
       "      <td>...</td>\n",
       "      <td>...</td>\n",
       "      <td>...</td>\n",
       "      <td>...</td>\n",
       "      <td>...</td>\n",
       "      <td>...</td>\n",
       "      <td>...</td>\n",
       "      <td>...</td>\n",
       "      <td>...</td>\n",
       "    </tr>\n",
       "    <tr>\n",
       "      <th>119349</th>\n",
       "      <td>Hotel</td>\n",
       "      <td>0</td>\n",
       "      <td>186</td>\n",
       "      <td>2017</td>\n",
       "      <td>August</td>\n",
       "      <td>35</td>\n",
       "      <td>31</td>\n",
       "      <td>0</td>\n",
       "      <td>3</td>\n",
       "      <td>2</td>\n",
       "      <td>...</td>\n",
       "      <td>0</td>\n",
       "      <td>D</td>\n",
       "      <td>0</td>\n",
       "      <td>No Deposit</td>\n",
       "      <td>9.0</td>\n",
       "      <td>NaN</td>\n",
       "      <td>0</td>\n",
       "      <td>126.00</td>\n",
       "      <td>0</td>\n",
       "      <td>2</td>\n",
       "    </tr>\n",
       "    <tr>\n",
       "      <th>119352</th>\n",
       "      <td>Hotel</td>\n",
       "      <td>0</td>\n",
       "      <td>63</td>\n",
       "      <td>2017</td>\n",
       "      <td>August</td>\n",
       "      <td>35</td>\n",
       "      <td>31</td>\n",
       "      <td>0</td>\n",
       "      <td>3</td>\n",
       "      <td>3</td>\n",
       "      <td>...</td>\n",
       "      <td>0</td>\n",
       "      <td>D</td>\n",
       "      <td>0</td>\n",
       "      <td>No Deposit</td>\n",
       "      <td>9.0</td>\n",
       "      <td>NaN</td>\n",
       "      <td>2</td>\n",
       "      <td>195.33</td>\n",
       "      <td>0</td>\n",
       "      <td>2</td>\n",
       "    </tr>\n",
       "    <tr>\n",
       "      <th>119353</th>\n",
       "      <td>Hotel</td>\n",
       "      <td>0</td>\n",
       "      <td>63</td>\n",
       "      <td>2017</td>\n",
       "      <td>August</td>\n",
       "      <td>35</td>\n",
       "      <td>31</td>\n",
       "      <td>0</td>\n",
       "      <td>3</td>\n",
       "      <td>3</td>\n",
       "      <td>...</td>\n",
       "      <td>0</td>\n",
       "      <td>D</td>\n",
       "      <td>0</td>\n",
       "      <td>No Deposit</td>\n",
       "      <td>9.0</td>\n",
       "      <td>NaN</td>\n",
       "      <td>2</td>\n",
       "      <td>195.33</td>\n",
       "      <td>0</td>\n",
       "      <td>2</td>\n",
       "    </tr>\n",
       "    <tr>\n",
       "      <th>119354</th>\n",
       "      <td>Hotel</td>\n",
       "      <td>0</td>\n",
       "      <td>63</td>\n",
       "      <td>2017</td>\n",
       "      <td>August</td>\n",
       "      <td>35</td>\n",
       "      <td>31</td>\n",
       "      <td>0</td>\n",
       "      <td>3</td>\n",
       "      <td>3</td>\n",
       "      <td>...</td>\n",
       "      <td>0</td>\n",
       "      <td>D</td>\n",
       "      <td>0</td>\n",
       "      <td>No Deposit</td>\n",
       "      <td>9.0</td>\n",
       "      <td>NaN</td>\n",
       "      <td>2</td>\n",
       "      <td>195.33</td>\n",
       "      <td>0</td>\n",
       "      <td>2</td>\n",
       "    </tr>\n",
       "    <tr>\n",
       "      <th>119373</th>\n",
       "      <td>Hotel</td>\n",
       "      <td>0</td>\n",
       "      <td>175</td>\n",
       "      <td>2017</td>\n",
       "      <td>August</td>\n",
       "      <td>35</td>\n",
       "      <td>31</td>\n",
       "      <td>1</td>\n",
       "      <td>3</td>\n",
       "      <td>1</td>\n",
       "      <td>...</td>\n",
       "      <td>0</td>\n",
       "      <td>A</td>\n",
       "      <td>0</td>\n",
       "      <td>No Deposit</td>\n",
       "      <td>42.0</td>\n",
       "      <td>NaN</td>\n",
       "      <td>0</td>\n",
       "      <td>82.35</td>\n",
       "      <td>0</td>\n",
       "      <td>1</td>\n",
       "    </tr>\n",
       "  </tbody>\n",
       "</table>\n",
       "<p>33246 rows × 28 columns</p>\n",
       "</div>"
      ],
      "text/plain": [
       "               type  cancellation  days_between_booking_arrival  \\\n",
       "5       Fancy Hotel             0                            14   \n",
       "22      Fancy Hotel             0                            72   \n",
       "43      Fancy Hotel             0                            70   \n",
       "138     Fancy Hotel             1                             5   \n",
       "200     Fancy Hotel             0                             0   \n",
       "...             ...           ...                           ...   \n",
       "119349        Hotel             0                           186   \n",
       "119352        Hotel             0                            63   \n",
       "119353        Hotel             0                            63   \n",
       "119354        Hotel             0                            63   \n",
       "119373        Hotel             0                           175   \n",
       "\n",
       "        year_arrival_date month_arrival_date  week_number_arrival_date  \\\n",
       "5                    2015               July                        27   \n",
       "22                   2015               July                        27   \n",
       "43                   2015               July                        27   \n",
       "138                  2015               July                        28   \n",
       "200                  2015               July                        28   \n",
       "...                   ...                ...                       ...   \n",
       "119349               2017             August                        35   \n",
       "119352               2017             August                        35   \n",
       "119353               2017             August                        35   \n",
       "119354               2017             August                        35   \n",
       "119373               2017             August                        35   \n",
       "\n",
       "        day_of_month_arrival_date  num_weekend_nights  num_workweek_nights  \\\n",
       "5                               1                   0                    2   \n",
       "22                              1                   2                    4   \n",
       "43                              2                   2                    3   \n",
       "138                             5                   1                    0   \n",
       "200                             7                   0                    1   \n",
       "...                           ...                 ...                  ...   \n",
       "119349                         31                   0                    3   \n",
       "119352                         31                   0                    3   \n",
       "119353                         31                   0                    3   \n",
       "119354                         31                   0                    3   \n",
       "119373                         31                   1                    3   \n",
       "\n",
       "        num_adults  ...  num_previous_stays  reserved_room  \\\n",
       "5                2  ...                   0              A   \n",
       "22               2  ...                   0              A   \n",
       "43               2  ...                   0              E   \n",
       "138              2  ...                   0              D   \n",
       "200              1  ...                   0              A   \n",
       "...            ...  ...                 ...            ...   \n",
       "119349           2  ...                   0              D   \n",
       "119352           3  ...                   0              D   \n",
       "119353           3  ...                   0              D   \n",
       "119354           3  ...                   0              D   \n",
       "119373           1  ...                   0              A   \n",
       "\n",
       "        changes_between_booking_arrival deposit_policy  \\\n",
       "5                                     0     No Deposit   \n",
       "22                                    1     No Deposit   \n",
       "43                                    0     No Deposit   \n",
       "138                                   0     No Deposit   \n",
       "200                                   0     No Deposit   \n",
       "...                                 ...            ...   \n",
       "119349                                0     No Deposit   \n",
       "119352                                0     No Deposit   \n",
       "119353                                0     No Deposit   \n",
       "119354                                0     No Deposit   \n",
       "119373                                0     No Deposit   \n",
       "\n",
       "        id_travel_agency_booking  id_person_booking  customer_type  avg_price  \\\n",
       "5                          240.0                NaN              0      98.00   \n",
       "22                         250.0                NaN              0      84.67   \n",
       "43                         250.0                NaN              0     137.00   \n",
       "138                        240.0                NaN              0      97.00   \n",
       "200                        240.0                NaN              0     109.80   \n",
       "...                          ...                ...            ...        ...   \n",
       "119349                       9.0                NaN              0     126.00   \n",
       "119352                       9.0                NaN              2     195.33   \n",
       "119353                       9.0                NaN              2     195.33   \n",
       "119354                       9.0                NaN              2     195.33   \n",
       "119373                      42.0                NaN              0      82.35   \n",
       "\n",
       "        required_car_parking_spaces total_of_special_requests  \n",
       "5                                 0                         1  \n",
       "22                                0                         1  \n",
       "43                                0                         1  \n",
       "138                               0                         0  \n",
       "200                               0                         3  \n",
       "...                             ...                       ...  \n",
       "119349                            0                         2  \n",
       "119352                            0                         2  \n",
       "119353                            0                         2  \n",
       "119354                            0                         2  \n",
       "119373                            0                         1  \n",
       "\n",
       "[33246 rows x 28 columns]"
      ]
     },
     "execution_count": 26,
     "metadata": {},
     "output_type": "execute_result"
    }
   ],
   "source": [
    "df[df.duplicated()]"
   ]
  },
  {
   "cell_type": "markdown",
   "id": "91b35425",
   "metadata": {},
   "source": [
    "Vemos que 33246 reservas sao apresentadas como duplicadas, o que pode ocorrer devido a possiveis falhas no sistema de reservas ou mesmo erro humano no gerenciamento do banco de dados. Dados duplicados podem introduzir um vies adicional em modelos preditivos, portanto eh necessario que se exclua reservas duplicadas em nossas analises. Todavia, como ha um numero muito grande de dados faltando na variavel de identificacao da pessoa fazendo a reserva (\"id_person_booking\") eh dificil saber se tais reservas duplicadas correspondem de fato a um erro no banco de dados ou apenas o acaso de pessoas diferentes fazendo reservas identicas.\n",
    "\n",
    "Como uma medida conservativa, vamos excluir apenas aquelas reservas duplicadas que possuem identificacao da pessoa."
   ]
  },
  {
   "cell_type": "code",
   "execution_count": 33,
   "id": "01eae38a",
   "metadata": {},
   "outputs": [],
   "source": [
    "df = df[~((df.duplicated())&(df.id_person_booking.notnull()))]"
   ]
  },
  {
   "cell_type": "markdown",
   "id": "b563954e",
   "metadata": {},
   "source": [
    "Como essa analise foca principalmente no cancelamento das reservas dos hospedes, vamos avaliar alguns aspectos importantes sobre cancelamento nesse conjunto de dados e como essa variavel depende do tempo e de relacoes com outras variaveis."
   ]
  },
  {
   "cell_type": "code",
   "execution_count": 35,
   "id": "b844f47c",
   "metadata": {},
   "outputs": [
    {
     "data": {
      "text/plain": [
       "0    0.629641\n",
       "1    0.370359\n",
       "Name: cancellation, dtype: float64"
      ]
     },
     "execution_count": 35,
     "metadata": {},
     "output_type": "execute_result"
    }
   ],
   "source": [
    "df.cancellation.value_counts()/df.cancellation.shape[0]"
   ]
  },
  {
   "cell_type": "markdown",
   "id": "a1db8630",
   "metadata": {},
   "source": [
    "Considerando o conjunto de dados, ha um pequeno desbalanco entre o numero de reservas que foram canceladas (cancellation = 1), com uma proporcao de 63% do total de reservas, e as que nao foram (cancellation = 0), com uma proporcao de 37%.\n",
    "\n",
    "Vejamos agora a variacao temporal do numero de cancelamentos em funcao da data de chegada na reserva."
   ]
  },
  {
   "cell_type": "code",
   "execution_count": 87,
   "id": "ec201876",
   "metadata": {},
   "outputs": [],
   "source": [
    "d = {'January': 1,\n",
    "     'February': 2,\n",
    "     'March': 3,\n",
    "     'April': 4,\n",
    "     'May': 5,\n",
    "     'June': 6,\n",
    "     'July': 7,\n",
    "     'August': 8,\n",
    "     'September': 9,\n",
    "     'October': 10,\n",
    "     'November': 11,\n",
    "     'December': 12}\n",
    "\n",
    "df['month_arrival_date_index'] = df['month_arrival_date'].map(d)\n",
    "df['arrival_date'] = pd.to_datetime(dict(year=df.year_arrival_date, month=df.month_arrival_date_index, day=df.day_of_month_arrival_date))\n",
    "\n",
    "df_cancel = df.groupby('arrival_date', as_index=True).cancellation.agg(frac_cancel_daily='mean')\n",
    "df_cancel['rolling_avg_cancel'] = df_cancel.frac_cancel_daily.rolling(30).mean()"
   ]
  },
  {
   "cell_type": "code",
   "execution_count": 89,
   "id": "22c354b6",
   "metadata": {},
   "outputs": [
    {
     "data": {
      "text/plain": [
       "<matplotlib.legend.Legend at 0x7efdd9df4880>"
      ]
     },
     "execution_count": 89,
     "metadata": {},
     "output_type": "execute_result"
    },
    {
     "data": {
      "image/png": "[encoded data removed]",
      "text/plain": [
       "<Figure size 864x432 with 1 Axes>"
      ]
     },
     "metadata": {
      "needs_background": "light"
     },
     "output_type": "display_data"
    }
   ],
   "source": [
    "#Plotar valores de numero de cancelamentos diarios e media movel para 30 dias\n",
    "ax = df_cancel.plot(\n",
    "    linewidth=2,\n",
    "    figsize=(12, 6)\n",
    ")\n",
    "\n",
    "#Plotar as medias de cancelamento anuais para 2015, 2016 e 2017\n",
    "ax.hlines(y=df_cancel.loc[:'2015-12-31'].frac_cancel_daily.mean(), \n",
    "          xmin='2015-07-01', xmax='2015-12-31', linewidth=1.5, color='r')\n",
    "ax.hlines(y=df_cancel.loc['2016-01-01':'2016-12-31'].frac_cancel_daily.mean(), \n",
    "          xmin='2016-01-01', xmax='2016-12-31', linewidth=1.5, color='r')\n",
    "ax.hlines(y=df_cancel.loc['2017-01-01':].frac_cancel_daily.mean(), \n",
    "          xmin='2017-01-01', xmax='2017-08-31',linewidth=1.5, color='r')\n",
    "\n",
    "\n",
    "ax.set_xlabel(\"Arrival date on reservation\", fontsize=15) \n",
    "ax.set_ylabel(\"Fraction of cancellations \\n(daily)\", fontsize=15) \n",
    "\n",
    "ax.tick_params(axis='both', which='major', labelsize=12)\n",
    "\n",
    "ax.legend(loc=\"center left\", bbox_to_anchor=(1.0, 0.5), fontsize=12)"
   ]
  },
  {
   "cell_type": "markdown",
   "id": "27d382ab",
   "metadata": {},
   "source": [
    "O grafico acima mostra a fracao diaria de cancelamentos, ou a proporcao das reservas para aquele dia que foram canceladas, ao longo do tempo, de Julho de 2015 a Agosto de 2017. Esse resultado pode tambem ser interpretado como a probabilidade de que uma reserva aleatoriamente escolhida em um dado dia de chegada veio a ser cancelada pelo cliente. \n",
    "\n",
    "Algumas observacoes importantes na analise dessa serie temporal:\n",
    "\n",
    "1. As variacoes bruscas das fracoes diarias de cancelamentos indicam pouca autocorrelacao na serie temporal, ou em outras palavras, a fracao de cancelamentos de um determinado dia eh pouco afetada pela fracao de cancelamentos dos dias anteriores. Esse sera um aspecto importante para nossos modelos preditivos mais a frente.\n",
    "\n",
    "2. Vemos tambem pelo smoothing da variacao temporal, obtido atraves da media movel para 30 dias (em laranja), que ha uma sazonalidade na probabilidade de cancelamentos ao longo do ano. Ha picos de cancelamento entre os meses de Abril a Outubro, enquanto os periodos de Novembro a Marco correspondem a periodos de queda nas probabilidades diarias de cancelamentos. Tais picos de cancelamento sugerem periodos de foco para o negocio, onde estrategias visando a retencao dessas reservas poderiam trazer um bom retorno (descontos nos valores de reserva ou beneficios para clientes que concretizem a reserva feita).\n",
    "\n",
    "3. Ha uma leve tendencia de aumento na media de probabilidade de cancelamentos (indicadas pelas linhas vermelhas horizontais) no ano de 2017 comparada as medias em 2016 e 2015. Contudo, eh necessario ter cautela nessa conclusao, uma vez que o conjunto de dados para 2017 eh limitado ao periodo de Janeiro a Setembro e o de 2015, de Julho a Dezembro.\n",
    "\n",
    "Procedendo com a analise temporal das fracoes de cancelamentos, vejamos como essa variavel eh afetada pelo dia da semana, dia do mes ou semana do ano marcados para chegada nessas reservas."
   ]
  },
  {
   "cell_type": "code",
   "execution_count": 91,
   "id": "d0a39bf0",
   "metadata": {},
   "outputs": [],
   "source": [
    "df_cancel['fulldate'] = df_cancel.index\n",
    "\n",
    "dic_day = {0:'Monday',1:'Tuesday',2:'Wednesday',3:'Thursday',4:'Friday',5:'Saturday',6:'Sunday'}\n",
    "df_cancel['dayofweek'] = df_cancel['fulldate'].dt.dayofweek.map(dic_day)\n",
    "\n",
    "df_cancel['dayofmonth'] = df_cancel['fulldate'].dt.day\n",
    "df_cancel['weekofyear'] = df_cancel['fulldate'].dt.isocalendar().week"
   ]
  },
  {
   "cell_type": "code",
   "execution_count": 92,
   "id": "8991258a",
   "metadata": {},
   "outputs": [
    {
     "data": {
      "image/png": "[encoded data removed]",
      "text/plain": [
       "<Figure size 1152x1152 with 3 Axes>"
      ]
     },
     "metadata": {
      "needs_background": "light"
     },
     "output_type": "display_data"
    }
   ],
   "source": [
    "lbs = ['Day of week', 'Day of month', 'Week of year']\n",
    "\n",
    "fig,axs = plt.subplots(3, 1, figsize=(16,16))\n",
    "\n",
    "sns.boxplot(x=\"dayofweek\", y=\"frac_cancel_daily\", data=df_cancel, \n",
    "                 order=['Monday','Tuesday','Wednesday','Thursday','Friday','Saturday','Sunday'], ax=axs[0])\n",
    "\n",
    "sns.boxplot(x=\"dayofmonth\", y=\"frac_cancel_daily\", data=df_cancel, ax=axs[1])\n",
    "\n",
    "sns.boxplot(x=\"weekofyear\", y=\"frac_cancel_daily\", data=df_cancel, ax=axs[2])\n",
    "\n",
    "for i in range(3):\n",
    "    axs[i].set_xlabel(lbs[i], fontsize=15)\n",
    "    axs[i].set_ylabel(\"Fraction of cancellations \\n(daily)\", fontsize=15)\n",
    "    axs[i].tick_params(axis='both', which='major', labelsize=12)\n",
    "    "
   ]
  },
  {
   "cell_type": "markdown",
   "id": "5173ef35",
   "metadata": {},
   "source": [
    "Os graficos acima mostram que nao parece haver impactos significativos na probabilidades de cancelamentos dependentes do dia da semana ou do dia do mes (primeiro e segundo graficos) que a reserva marcava para a chegada. Em relacao a semana do ano (terceiro grafico), aumentos nos numeros medios de cancelamento sao mais visiveis entre as semanas 14 e 44 (Abril a Outubro), em concordancia com a analise anterior da serie temporal. Vemos assim que semana do ano pode ser um preditor importante para cancelamentos de reserva.\n",
    "\n",
    "Como as outras variaveis na reserva impactam seu possivel cancelamento?"
   ]
  },
  {
   "cell_type": "markdown",
   "id": "642a9fd7",
   "metadata": {},
   "source": [
    "# Feature engineering"
   ]
  },
  {
   "cell_type": "markdown",
   "id": "0f414060",
   "metadata": {},
   "source": [
    "## Missing values"
   ]
  },
  {
   "cell_type": "markdown",
   "id": "3c857d88",
   "metadata": {},
   "source": [
    "Vamos voltar a olhar para as variaveis com dados faltando."
   ]
  },
  {
   "cell_type": "code",
   "execution_count": 146,
   "id": "f85486f0",
   "metadata": {},
   "outputs": [
    {
     "data": {
      "text/plain": [
       "num_children                     4\n",
       "country                        481\n",
       "id_travel_agency_booking     14686\n",
       "id_person_booking           112593\n",
       "dtype: int64"
      ]
     },
     "execution_count": 146,
     "metadata": {},
     "output_type": "execute_result"
    }
   ],
   "source": [
    "df[df.columns[df.isnull().sum()!=0]].isnull().sum()"
   ]
  },
  {
   "cell_type": "code",
   "execution_count": 147,
   "id": "e1aa6e4f",
   "metadata": {},
   "outputs": [
    {
     "data": {
      "text/html": [
       "<div>\n",
       "<style scoped>\n",
       "    .dataframe tbody tr th:only-of-type {\n",
       "        vertical-align: middle;\n",
       "    }\n",
       "\n",
       "    .dataframe tbody tr th {\n",
       "        vertical-align: top;\n",
       "    }\n",
       "\n",
       "    .dataframe thead th {\n",
       "        text-align: right;\n",
       "    }\n",
       "</style>\n",
       "<table border=\"1\" class=\"dataframe\">\n",
       "  <thead>\n",
       "    <tr style=\"text-align: right;\">\n",
       "      <th></th>\n",
       "      <th>type</th>\n",
       "      <th>cancellation</th>\n",
       "      <th>days_between_booking_arrival</th>\n",
       "      <th>year_arrival_date</th>\n",
       "      <th>month_arrival_date</th>\n",
       "      <th>week_number_arrival_date</th>\n",
       "      <th>day_of_month_arrival_date</th>\n",
       "      <th>num_weekend_nights</th>\n",
       "      <th>num_workweek_nights</th>\n",
       "      <th>num_adults</th>\n",
       "      <th>...</th>\n",
       "      <th>changes_between_booking_arrival</th>\n",
       "      <th>deposit_policy</th>\n",
       "      <th>id_travel_agency_booking</th>\n",
       "      <th>id_person_booking</th>\n",
       "      <th>customer_type</th>\n",
       "      <th>avg_price</th>\n",
       "      <th>required_car_parking_spaces</th>\n",
       "      <th>total_of_special_requests</th>\n",
       "      <th>month_arrival_date_index</th>\n",
       "      <th>arrival_date</th>\n",
       "    </tr>\n",
       "  </thead>\n",
       "  <tbody>\n",
       "    <tr>\n",
       "      <th>40600</th>\n",
       "      <td>Hotel</td>\n",
       "      <td>1</td>\n",
       "      <td>2</td>\n",
       "      <td>2015</td>\n",
       "      <td>August</td>\n",
       "      <td>32</td>\n",
       "      <td>3</td>\n",
       "      <td>1</td>\n",
       "      <td>0</td>\n",
       "      <td>2</td>\n",
       "      <td>...</td>\n",
       "      <td>0</td>\n",
       "      <td>No Deposit</td>\n",
       "      <td>NaN</td>\n",
       "      <td>NaN</td>\n",
       "      <td>2</td>\n",
       "      <td>12.0</td>\n",
       "      <td>0</td>\n",
       "      <td>1</td>\n",
       "      <td>8</td>\n",
       "      <td>2015-08-03</td>\n",
       "    </tr>\n",
       "    <tr>\n",
       "      <th>40667</th>\n",
       "      <td>Hotel</td>\n",
       "      <td>1</td>\n",
       "      <td>1</td>\n",
       "      <td>2015</td>\n",
       "      <td>August</td>\n",
       "      <td>32</td>\n",
       "      <td>5</td>\n",
       "      <td>0</td>\n",
       "      <td>2</td>\n",
       "      <td>2</td>\n",
       "      <td>...</td>\n",
       "      <td>0</td>\n",
       "      <td>No Deposit</td>\n",
       "      <td>14.0</td>\n",
       "      <td>NaN</td>\n",
       "      <td>2</td>\n",
       "      <td>12.0</td>\n",
       "      <td>0</td>\n",
       "      <td>1</td>\n",
       "      <td>8</td>\n",
       "      <td>2015-08-05</td>\n",
       "    </tr>\n",
       "    <tr>\n",
       "      <th>40679</th>\n",
       "      <td>Hotel</td>\n",
       "      <td>1</td>\n",
       "      <td>1</td>\n",
       "      <td>2015</td>\n",
       "      <td>August</td>\n",
       "      <td>32</td>\n",
       "      <td>5</td>\n",
       "      <td>0</td>\n",
       "      <td>2</td>\n",
       "      <td>3</td>\n",
       "      <td>...</td>\n",
       "      <td>0</td>\n",
       "      <td>No Deposit</td>\n",
       "      <td>NaN</td>\n",
       "      <td>NaN</td>\n",
       "      <td>2</td>\n",
       "      <td>18.0</td>\n",
       "      <td>0</td>\n",
       "      <td>2</td>\n",
       "      <td>8</td>\n",
       "      <td>2015-08-05</td>\n",
       "    </tr>\n",
       "    <tr>\n",
       "      <th>41160</th>\n",
       "      <td>Hotel</td>\n",
       "      <td>1</td>\n",
       "      <td>8</td>\n",
       "      <td>2015</td>\n",
       "      <td>August</td>\n",
       "      <td>33</td>\n",
       "      <td>13</td>\n",
       "      <td>2</td>\n",
       "      <td>5</td>\n",
       "      <td>2</td>\n",
       "      <td>...</td>\n",
       "      <td>0</td>\n",
       "      <td>No Deposit</td>\n",
       "      <td>9.0</td>\n",
       "      <td>NaN</td>\n",
       "      <td>2</td>\n",
       "      <td>76.5</td>\n",
       "      <td>0</td>\n",
       "      <td>1</td>\n",
       "      <td>8</td>\n",
       "      <td>2015-08-13</td>\n",
       "    </tr>\n",
       "  </tbody>\n",
       "</table>\n",
       "<p>4 rows × 30 columns</p>\n",
       "</div>"
      ],
      "text/plain": [
       "        type  cancellation  days_between_booking_arrival  year_arrival_date  \\\n",
       "40600  Hotel             1                             2               2015   \n",
       "40667  Hotel             1                             1               2015   \n",
       "40679  Hotel             1                             1               2015   \n",
       "41160  Hotel             1                             8               2015   \n",
       "\n",
       "      month_arrival_date  week_number_arrival_date  day_of_month_arrival_date  \\\n",
       "40600             August                        32                          3   \n",
       "40667             August                        32                          5   \n",
       "40679             August                        32                          5   \n",
       "41160             August                        33                         13   \n",
       "\n",
       "       num_weekend_nights  num_workweek_nights  num_adults  ...  \\\n",
       "40600                   1                    0           2  ...   \n",
       "40667                   0                    2           2  ...   \n",
       "40679                   0                    2           3  ...   \n",
       "41160                   2                    5           2  ...   \n",
       "\n",
       "       changes_between_booking_arrival  deposit_policy  \\\n",
       "40600                                0      No Deposit   \n",
       "40667                                0      No Deposit   \n",
       "40679                                0      No Deposit   \n",
       "41160                                0      No Deposit   \n",
       "\n",
       "       id_travel_agency_booking id_person_booking  customer_type  avg_price  \\\n",
       "40600                       NaN               NaN              2       12.0   \n",
       "40667                      14.0               NaN              2       12.0   \n",
       "40679                       NaN               NaN              2       18.0   \n",
       "41160                       9.0               NaN              2       76.5   \n",
       "\n",
       "       required_car_parking_spaces  total_of_special_requests  \\\n",
       "40600                            0                          1   \n",
       "40667                            0                          1   \n",
       "40679                            0                          2   \n",
       "41160                            0                          1   \n",
       "\n",
       "       month_arrival_date_index arrival_date  \n",
       "40600                         8   2015-08-03  \n",
       "40667                         8   2015-08-05  \n",
       "40679                         8   2015-08-05  \n",
       "41160                         8   2015-08-13  \n",
       "\n",
       "[4 rows x 30 columns]"
      ]
     },
     "execution_count": 147,
     "metadata": {},
     "output_type": "execute_result"
    }
   ],
   "source": [
    "df[df.num_children.isnull()]"
   ]
  },
  {
   "cell_type": "markdown",
   "id": "ca7e7701",
   "metadata": {},
   "source": [
    "Para o caso dos dados faltando na variavel numero de criancas, como o numero de instancias eh bem pequeno (quatro), desconsiderarmos essas instancias nao tera um impacto grande sobre nosso modelo. "
   ]
  },
  {
   "cell_type": "code",
   "execution_count": 149,
   "id": "d3cc4c24",
   "metadata": {},
   "outputs": [],
   "source": [
    "df = df[~df.num_children.isnull()]"
   ]
  },
  {
   "cell_type": "markdown",
   "id": "000b3962",
   "metadata": {},
   "source": [
    "Para as tres variaveis restantes, o numero de reservas sem esses dados eh muito grande, de modo que descarta-las nao eh uma opcao. Como tambem parece ser dificil inferir os valores dessas variaveis atreves de outras variaveis para uma mesma reserva, o mais conservador aqui eh criar categorias de \"nao-identificados\"."
   ]
  },
  {
   "cell_type": "code",
   "execution_count": 151,
   "id": "dc8241cf",
   "metadata": {
    "scrolled": false
   },
   "outputs": [
    {
     "name": "stderr",
     "output_type": "stream",
     "text": [
      "/tmp/ipykernel_199827/285370354.py:1: SettingWithCopyWarning: \n",
      "A value is trying to be set on a copy of a slice from a DataFrame\n",
      "\n",
      "See the caveats in the documentation: https://pandas.pydata.org/pandas-docs/stable/user_guide/indexing.html#returning-a-view-versus-a-copy\n",
      "  df.country.fillna('nonIDcountry',inplace=True)\n",
      "/tmp/ipykernel_199827/285370354.py:2: SettingWithCopyWarning: \n",
      "A value is trying to be set on a copy of a slice from a DataFrame\n",
      "\n",
      "See the caveats in the documentation: https://pandas.pydata.org/pandas-docs/stable/user_guide/indexing.html#returning-a-view-versus-a-copy\n",
      "  df.id_travel_agency_booking.fillna('nonIDagency',inplace=True)\n",
      "/tmp/ipykernel_199827/285370354.py:3: SettingWithCopyWarning: \n",
      "A value is trying to be set on a copy of a slice from a DataFrame\n",
      "\n",
      "See the caveats in the documentation: https://pandas.pydata.org/pandas-docs/stable/user_guide/indexing.html#returning-a-view-versus-a-copy\n",
      "  df.id_person_booking.fillna('nonIDperson',inplace=True)\n"
     ]
    }
   ],
   "source": [
    "df.country.fillna('nonIDcountry',inplace=True)\n",
    "df.id_travel_agency_booking.fillna('nonIDagency',inplace=True)\n",
    "df.id_person_booking.fillna('nonIDperson',inplace=True)"
   ]
  },
  {
   "cell_type": "code",
   "execution_count": 152,
   "id": "77d85fb1",
   "metadata": {},
   "outputs": [
    {
     "data": {
      "text/plain": [
       "type                               0\n",
       "cancellation                       0\n",
       "days_between_booking_arrival       0\n",
       "year_arrival_date                  0\n",
       "month_arrival_date                 0\n",
       "week_number_arrival_date           0\n",
       "day_of_month_arrival_date          0\n",
       "num_weekend_nights                 0\n",
       "num_workweek_nights                0\n",
       "num_adults                         0\n",
       "num_children                       0\n",
       "num_babies                         0\n",
       "breakfast                          0\n",
       "country                            0\n",
       "market_segment                     0\n",
       "distribution_channel               0\n",
       "repeated_guest                     0\n",
       "num_previous_cancellations         0\n",
       "num_previous_stays                 0\n",
       "reserved_room                      0\n",
       "changes_between_booking_arrival    0\n",
       "deposit_policy                     0\n",
       "id_travel_agency_booking           0\n",
       "id_person_booking                  0\n",
       "customer_type                      0\n",
       "avg_price                          0\n",
       "required_car_parking_spaces        0\n",
       "total_of_special_requests          0\n",
       "month_arrival_date_index           0\n",
       "arrival_date                       0\n",
       "dtype: int64"
      ]
     },
     "execution_count": 152,
     "metadata": {},
     "output_type": "execute_result"
    }
   ],
   "source": [
    "df.isnull().sum()"
   ]
  },
  {
   "cell_type": "markdown",
   "id": "f9068067",
   "metadata": {},
   "source": [
    "Mostrando que nao restam mais missing values em nosso conjunto de dados."
   ]
  },
  {
   "cell_type": "markdown",
   "id": "05c73d31",
   "metadata": {},
   "source": [
    "## Dummy variables"
   ]
  },
  {
   "cell_type": "markdown",
   "id": "fb3f0a79",
   "metadata": {},
   "source": [
    "Vamos agora transformar as variaveis categoricas em dummy variables para que possam ser usada como input em nossos modelos. Antes disso precisamos efetuar ajustes aos valores de algumas das variaveis."
   ]
  },
  {
   "cell_type": "code",
   "execution_count": 153,
   "id": "0af74ae5",
   "metadata": {},
   "outputs": [
    {
     "name": "stderr",
     "output_type": "stream",
     "text": [
      "/tmp/ipykernel_199827/685886137.py:1: SettingWithCopyWarning: \n",
      "A value is trying to be set on a copy of a slice from a DataFrame.\n",
      "Try using .loc[row_indexer,col_indexer] = value instead\n",
      "\n",
      "See the caveats in the documentation: https://pandas.pydata.org/pandas-docs/stable/user_guide/indexing.html#returning-a-view-versus-a-copy\n",
      "  df.type = df.type.str.lower().str.replace(\" \", \"_\")\n",
      "/tmp/ipykernel_199827/685886137.py:2: SettingWithCopyWarning: \n",
      "A value is trying to be set on a copy of a slice from a DataFrame.\n",
      "Try using .loc[row_indexer,col_indexer] = value instead\n",
      "\n",
      "See the caveats in the documentation: https://pandas.pydata.org/pandas-docs/stable/user_guide/indexing.html#returning-a-view-versus-a-copy\n",
      "  df.breakfast = df.breakfast.astype('int')\n",
      "/tmp/ipykernel_199827/685886137.py:3: SettingWithCopyWarning: \n",
      "A value is trying to be set on a copy of a slice from a DataFrame.\n",
      "Try using .loc[row_indexer,col_indexer] = value instead\n",
      "\n",
      "See the caveats in the documentation: https://pandas.pydata.org/pandas-docs/stable/user_guide/indexing.html#returning-a-view-versus-a-copy\n",
      "  df.deposit_policy =  df.deposit_policy.str.lower().str.replace(\" \", \"_\")\n"
     ]
    }
   ],
   "source": [
    "df.type = df.type.str.lower().str.replace(\" \", \"_\")\n",
    "df.breakfast = df.breakfast.astype('int')\n",
    "df.deposit_policy =  df.deposit_policy.str.lower().str.replace(\" \", \"_\")\n",
    "\n",
    "catdf = df[['type','country','market_segment','distribution_channel','reserved_room','deposit_policy',\n",
    "           'id_travel_agency_booking','id_person_booking','customer_type']]\n",
    "numdf = df[df.columns[~df.columns.isin(['type','country','market_segment','distribution_channel','reserved_room','deposit_policy',\n",
    "           'id_travel_agency_booking','id_person_booking','customer_type'])]]"
   ]
  },
  {
   "cell_type": "code",
   "execution_count": 155,
   "id": "367e6807",
   "metadata": {},
   "outputs": [],
   "source": [
    "dummycatdf = pd.get_dummies(catdf.astype(str),drop_first=True)"
   ]
  },
  {
   "cell_type": "code",
   "execution_count": 156,
   "id": "73e8ab2e",
   "metadata": {},
   "outputs": [
    {
     "data": {
      "text/plain": [
       "(117698, 887)"
      ]
     },
     "execution_count": 156,
     "metadata": {},
     "output_type": "execute_result"
    }
   ],
   "source": [
    "dummycatdf.shape"
   ]
  },
  {
   "cell_type": "code",
   "execution_count": 163,
   "id": "24821b67",
   "metadata": {},
   "outputs": [],
   "source": [
    "moddf = pd.concat([numdf,dummycatdf],axis=1)"
   ]
  },
  {
   "cell_type": "code",
   "execution_count": 164,
   "id": "4ce58028",
   "metadata": {},
   "outputs": [
    {
     "data": {
      "text/plain": [
       "(117698, 908)"
      ]
     },
     "execution_count": 164,
     "metadata": {},
     "output_type": "execute_result"
    }
   ],
   "source": [
    "moddf.shape"
   ]
  },
  {
   "cell_type": "markdown",
   "id": "6dd96161",
   "metadata": {},
   "source": [
    "## Train and test sets"
   ]
  },
  {
   "cell_type": "markdown",
   "id": "9ea4b5b5",
   "metadata": {},
   "source": [
    "No caso em questao, gostariamos de obter um modelo que fosse capaz de prever se uma dada reserva sera ou nao cancelada, a partir das caracteristicas desta reserva. Nesse caso, faz sentido que os conjuntos de treino e teste sejam particoes aleatorias do nosso conjunto total de dados (respeitando as proporcoes de estratificacao nos nossos labels, no caso a variavel cancellation). \n",
    "\n",
    "Apesar desse conjunto de dados representar uma progressao no tempo desses cancelamentos, esse problema eh diferente de uma previsao em serie temporal, onde, a partir do historico de uma dada variavel que muda com o tempo, gostariamos de prever seu comportamento para os tempos futuros. Nesse caso, uma particao em treino e teste que respeitasse a historia de variacao temporal dos dados seria mais adequada.\n",
    "\n",
    "A rapida variacao das fracoes diarias de cancelamento (veja grafico acima) tambem indica que a correlacao temporal entre instancias proximas (autocorrelacao) nao eh significativa, de modo que podemos assumir que tais amostras sao suficientemente independentes.\n",
    "\n",
    "Dessa forma, procedemos abandonando features que nao devem ser relevantes para nossa analise e dividindo o conjunto de dados em treino e teste, com uma proporcao de 20% para o conjunto de teste."
   ]
  },
  {
   "cell_type": "code",
   "execution_count": 166,
   "id": "02557737",
   "metadata": {},
   "outputs": [
    {
     "data": {
      "text/plain": [
       "Index(['cancellation', 'days_between_booking_arrival', 'year_arrival_date',\n",
       "       'month_arrival_date', 'week_number_arrival_date',\n",
       "       'day_of_month_arrival_date', 'num_weekend_nights',\n",
       "       'num_workweek_nights', 'num_adults', 'num_children', 'num_babies',\n",
       "       'breakfast', 'repeated_guest', 'num_previous_cancellations',\n",
       "       'num_previous_stays', 'changes_between_booking_arrival', 'avg_price',\n",
       "       'required_car_parking_spaces', 'total_of_special_requests',\n",
       "       'month_arrival_date_index', 'arrival_date'],\n",
       "      dtype='object')"
      ]
     },
     "execution_count": 166,
     "metadata": {},
     "output_type": "execute_result"
    }
   ],
   "source": [
    "numdf.columns"
   ]
  },
  {
   "cell_type": "code",
   "execution_count": 168,
   "id": "94a32314",
   "metadata": {},
   "outputs": [],
   "source": [
    "moddf = moddf.drop(['year_arrival_date',\n",
    "                     'month_arrival_date',\n",
    "                     'day_of_month_arrival_date',\n",
    "                     'month_arrival_date_index', \n",
    "                     'arrival_date'],axis=1)"
   ]
  },
  {
   "cell_type": "code",
   "execution_count": 170,
   "id": "ac7b8bd0",
   "metadata": {},
   "outputs": [],
   "source": [
    "from sklearn.model_selection import train_test_split\n",
    "\n",
    "labels = moddf['cancellation']\n",
    "features = moddf.drop(['cancellation'],axis=1)\n",
    "\n",
    "Xtrain, Xtest, ytrain, ytest = train_test_split(features, labels, test_size=0.2, random_state=42)"
   ]
  },
  {
   "cell_type": "markdown",
   "id": "20d9857b",
   "metadata": {},
   "source": [
    "# Model selection"
   ]
  },
  {
   "cell_type": "code",
   "execution_count": 176,
   "id": "18d41310",
   "metadata": {},
   "outputs": [],
   "source": [
    "from sklearn.ensemble import RandomForestClassifier\n",
    "from xgboost import XGBClassifier\n",
    "\n",
    "from sklearn.model_selection import cross_val_score\n",
    "from sklearn.model_selection import GridSearchCV\n",
    "from sklearn.metrics import confusion_matrix\n",
    "from sklearn.metrics import f1_score, roc_auc_score"
   ]
  },
  {
   "cell_type": "markdown",
   "id": "5294d59e",
   "metadata": {},
   "source": [
    "Vamos testar dois modelos frequentemente usados em tarefas de classificacao e comparar seus resultados. Faremos a comparacao por F1-score da performance no conjunto de treino e performance em validacao cruzada nesse mesmo conjunto para avaliar overfitting do modelo. Em seguida avaliaremos F1-score e matriz de confusao para o conjunto de teste.\n",
    "\n",
    "Os resultados dos diferentes modelos serao comparadas para que o melhor seja selecionado."
   ]
  },
  {
   "cell_type": "markdown",
   "id": "a95346d4",
   "metadata": {},
   "source": [
    "## Random Forest"
   ]
  },
  {
   "cell_type": "code",
   "execution_count": 177,
   "id": "cd128559",
   "metadata": {},
   "outputs": [
    {
     "name": "stdout",
     "output_type": "stream",
     "text": [
      "0.9940514770484956\n",
      "0.8337008231520467\n"
     ]
    }
   ],
   "source": [
    "rfc = RandomForestClassifier(random_state=42)\n",
    "\n",
    "rfc.fit(Xtrain,ytrain)\n",
    "\n",
    "print(f1_score(ytrain,rfc.predict(Xtrain)))\n",
    "print(cross_val_score(rfc, Xtrain, ytrain, scoring='f1', cv=5).mean())"
   ]
  },
  {
   "cell_type": "markdown",
   "id": "3b368042",
   "metadata": {},
   "source": [
    "A diferenca grande entre performance no conjunto de treino e na validacao cruzada com 5 particoes indica overfitting do conjunto de treino. Isso pode fazer com que o modelo nao generalize bem para novos conjuntos de dados.\n",
    "\n",
    "Uma forma de tentar evitar overfitting em Random Forests eh limitar a profundidade das arvores, aumentando o numero de estimadores para evitar underfit."
   ]
  },
  {
   "cell_type": "code",
   "execution_count": 180,
   "id": "cca182f8",
   "metadata": {},
   "outputs": [
    {
     "name": "stdout",
     "output_type": "stream",
     "text": [
      "0.5170143402015724\n",
      "0.5190681591837849\n"
     ]
    }
   ],
   "source": [
    "rfc2 = RandomForestClassifier(n_estimators=500, max_depth=6, random_state=42)\n",
    "\n",
    "rfc2.fit(Xtrain,ytrain)\n",
    "\n",
    "print(f1_score(ytrain,rfc2.predict(Xtrain)))\n",
    "print(cross_val_score(rfc2, Xtrain, ytrain, scoring='f1', cv=5).mean())"
   ]
  },
  {
   "cell_type": "markdown",
   "id": "66eba4f0",
   "metadata": {},
   "source": [
    "Como vemos, esta tentativa de ajuste dos hiperparametros resultou num modelo com pior performance, em comparacao com o modelo anterior (rfc). Uma maneira mais adequada de achar essa otimizacao seria utilizar uma combinacao de RandomSearchCV e GridSearchCV para encontrar qual o conjunto de hiperparametros conferiria a melor performance.\n",
    "\n",
    "Como o modelo anterior performa no conjunto de teste?"
   ]
  },
  {
   "cell_type": "code",
   "execution_count": 187,
   "id": "56465cf8",
   "metadata": {},
   "outputs": [
    {
     "name": "stdout",
     "output_type": "stream",
     "text": [
      "[[0.5864486  0.04001699]\n",
      " [0.07429907 0.29923534]]\n",
      "0.8396209547648846\n"
     ]
    }
   ],
   "source": [
    "print(confusion_matrix(ytest,rfc.predict(Xtest))/ytest.shape[0])\n",
    "print(f1_score(ytest,rfc.predict(Xtest)))"
   ]
  },
  {
   "cell_type": "markdown",
   "id": "9ae4fbcb",
   "metadata": {},
   "source": [
    "O modelo teve uma performance similar no conjunto de teste em comparacao com a validacao cruzada com 5 particoes. Um F1-score de aproximadamente 0.84 (medindo a media harmonica entre precision e recall) parece uma boa performance para um modelo desse tipo, considerando que nao houve ajuste de hiperparametros nesse caso.\n",
    "\n",
    "A matriz de confusao mostra que o modelo apresenta boa performance em prever a classe 0 e uma performance razoavelmente pior em prever a classe 1, com uma proporcao 0.04 de falsos positivos e 0.07 de falsos negativos.\n",
    "\n",
    "Vamos checar agora como um outro classificador performa sobre esse conjunto de dados."
   ]
  },
  {
   "cell_type": "markdown",
   "id": "b584b1be",
   "metadata": {},
   "source": [
    "## XGBoost"
   ]
  },
  {
   "cell_type": "code",
   "execution_count": 190,
   "id": "26a948bb",
   "metadata": {
    "scrolled": true
   },
   "outputs": [
    {
     "name": "stdout",
     "output_type": "stream",
     "text": [
      "[17:39:58] WARNING: ../src/learner.cc:1115: Starting in XGBoost 1.3.0, the default evaluation metric used with the objective 'binary:logistic' was changed from 'error' to 'logloss'. Explicitly set eval_metric if you'd like to restore the old behavior.\n"
     ]
    },
    {
     "name": "stderr",
     "output_type": "stream",
     "text": [
      "/home/ldiasfer/anaconda3/envs/survival/lib/python3.10/site-packages/xgboost/sklearn.py:1224: UserWarning: The use of label encoder in XGBClassifier is deprecated and will be removed in a future release. To remove this warning, do the following: 1) Pass option use_label_encoder=False when constructing XGBClassifier object; and 2) Encode your labels (y) as integers starting with 0, i.e. 0, 1, 2, ..., [num_class - 1].\n",
      "  warnings.warn(label_encoder_deprecation_msg, UserWarning)\n",
      "/home/ldiasfer/anaconda3/envs/survival/lib/python3.10/site-packages/xgboost/data.py:250: FutureWarning: pandas.Int64Index is deprecated and will be removed from pandas in a future version. Use pandas.Index with the appropriate dtype instead.\n",
      "  elif isinstance(data.columns, (pd.Int64Index, pd.RangeIndex)):\n"
     ]
    },
    {
     "name": "stdout",
     "output_type": "stream",
     "text": [
      "[17:41:11] WARNING: ../src/learner.cc:1115: Starting in XGBoost 1.3.0, the default evaluation metric used with the objective 'binary:logistic' was changed from 'error' to 'logloss'. Explicitly set eval_metric if you'd like to restore the old behavior.\n"
     ]
    },
    {
     "name": "stderr",
     "output_type": "stream",
     "text": [
      "/home/ldiasfer/anaconda3/envs/survival/lib/python3.10/site-packages/xgboost/sklearn.py:1224: UserWarning: The use of label encoder in XGBClassifier is deprecated and will be removed in a future release. To remove this warning, do the following: 1) Pass option use_label_encoder=False when constructing XGBClassifier object; and 2) Encode your labels (y) as integers starting with 0, i.e. 0, 1, 2, ..., [num_class - 1].\n",
      "  warnings.warn(label_encoder_deprecation_msg, UserWarning)\n",
      "/home/ldiasfer/anaconda3/envs/survival/lib/python3.10/site-packages/xgboost/data.py:250: FutureWarning: pandas.Int64Index is deprecated and will be removed from pandas in a future version. Use pandas.Index with the appropriate dtype instead.\n",
      "  elif isinstance(data.columns, (pd.Int64Index, pd.RangeIndex)):\n"
     ]
    },
    {
     "name": "stdout",
     "output_type": "stream",
     "text": [
      "[17:42:12] WARNING: ../src/learner.cc:1115: Starting in XGBoost 1.3.0, the default evaluation metric used with the objective 'binary:logistic' was changed from 'error' to 'logloss'. Explicitly set eval_metric if you'd like to restore the old behavior.\n"
     ]
    },
    {
     "name": "stderr",
     "output_type": "stream",
     "text": [
      "/home/ldiasfer/anaconda3/envs/survival/lib/python3.10/site-packages/xgboost/sklearn.py:1224: UserWarning: The use of label encoder in XGBClassifier is deprecated and will be removed in a future release. To remove this warning, do the following: 1) Pass option use_label_encoder=False when constructing XGBClassifier object; and 2) Encode your labels (y) as integers starting with 0, i.e. 0, 1, 2, ..., [num_class - 1].\n",
      "  warnings.warn(label_encoder_deprecation_msg, UserWarning)\n",
      "/home/ldiasfer/anaconda3/envs/survival/lib/python3.10/site-packages/xgboost/data.py:250: FutureWarning: pandas.Int64Index is deprecated and will be removed from pandas in a future version. Use pandas.Index with the appropriate dtype instead.\n",
      "  elif isinstance(data.columns, (pd.Int64Index, pd.RangeIndex)):\n"
     ]
    },
    {
     "name": "stdout",
     "output_type": "stream",
     "text": [
      "[17:43:13] WARNING: ../src/learner.cc:1115: Starting in XGBoost 1.3.0, the default evaluation metric used with the objective 'binary:logistic' was changed from 'error' to 'logloss'. Explicitly set eval_metric if you'd like to restore the old behavior.\n"
     ]
    },
    {
     "name": "stderr",
     "output_type": "stream",
     "text": [
      "/home/ldiasfer/anaconda3/envs/survival/lib/python3.10/site-packages/xgboost/sklearn.py:1224: UserWarning: The use of label encoder in XGBClassifier is deprecated and will be removed in a future release. To remove this warning, do the following: 1) Pass option use_label_encoder=False when constructing XGBClassifier object; and 2) Encode your labels (y) as integers starting with 0, i.e. 0, 1, 2, ..., [num_class - 1].\n",
      "  warnings.warn(label_encoder_deprecation_msg, UserWarning)\n",
      "/home/ldiasfer/anaconda3/envs/survival/lib/python3.10/site-packages/xgboost/data.py:250: FutureWarning: pandas.Int64Index is deprecated and will be removed from pandas in a future version. Use pandas.Index with the appropriate dtype instead.\n",
      "  elif isinstance(data.columns, (pd.Int64Index, pd.RangeIndex)):\n"
     ]
    },
    {
     "name": "stdout",
     "output_type": "stream",
     "text": [
      "[17:44:14] WARNING: ../src/learner.cc:1115: Starting in XGBoost 1.3.0, the default evaluation metric used with the objective 'binary:logistic' was changed from 'error' to 'logloss'. Explicitly set eval_metric if you'd like to restore the old behavior.\n"
     ]
    },
    {
     "name": "stderr",
     "output_type": "stream",
     "text": [
      "/home/ldiasfer/anaconda3/envs/survival/lib/python3.10/site-packages/xgboost/sklearn.py:1224: UserWarning: The use of label encoder in XGBClassifier is deprecated and will be removed in a future release. To remove this warning, do the following: 1) Pass option use_label_encoder=False when constructing XGBClassifier object; and 2) Encode your labels (y) as integers starting with 0, i.e. 0, 1, 2, ..., [num_class - 1].\n",
      "  warnings.warn(label_encoder_deprecation_msg, UserWarning)\n",
      "/home/ldiasfer/anaconda3/envs/survival/lib/python3.10/site-packages/xgboost/data.py:250: FutureWarning: pandas.Int64Index is deprecated and will be removed from pandas in a future version. Use pandas.Index with the appropriate dtype instead.\n",
      "  elif isinstance(data.columns, (pd.Int64Index, pd.RangeIndex)):\n"
     ]
    },
    {
     "name": "stdout",
     "output_type": "stream",
     "text": [
      "[17:45:15] WARNING: ../src/learner.cc:1115: Starting in XGBoost 1.3.0, the default evaluation metric used with the objective 'binary:logistic' was changed from 'error' to 'logloss'. Explicitly set eval_metric if you'd like to restore the old behavior.\n"
     ]
    }
   ],
   "source": [
    "xgb = XGBClassifier(random_state=42)\n",
    "\n",
    "xgb.fit(Xtrain,ytrain)\n",
    "cvxgb = cross_val_score(xgb, Xtrain, ytrain, scoring='f1', cv=5)"
   ]
  },
  {
   "cell_type": "code",
   "execution_count": 191,
   "id": "96fc0fc2",
   "metadata": {},
   "outputs": [
    {
     "name": "stdout",
     "output_type": "stream",
     "text": [
      "0.829328753826626\n",
      "0.8138513683401571\n"
     ]
    }
   ],
   "source": [
    "print(f1_score(ytrain,xgb.predict(Xtrain)))\n",
    "print(cvxgb.mean())"
   ]
  },
  {
   "cell_type": "markdown",
   "id": "652a367b",
   "metadata": {},
   "source": [
    "O modelo apresenta um bom score no conjunto de treino e na validacao cruzada, com apenas uma pequena diferenca entre os dois, indicando boa generalizacao para novos conjuntos.\n",
    "\n",
    "Sera possivel melhorar a performance introduzindo uma limitacao nos hiperparametros?"
   ]
  },
  {
   "cell_type": "code",
   "execution_count": 192,
   "id": "be405375",
   "metadata": {
    "scrolled": true
   },
   "outputs": [
    {
     "name": "stderr",
     "output_type": "stream",
     "text": [
      "/home/ldiasfer/anaconda3/envs/survival/lib/python3.10/site-packages/xgboost/sklearn.py:1224: UserWarning: The use of label encoder in XGBClassifier is deprecated and will be removed in a future release. To remove this warning, do the following: 1) Pass option use_label_encoder=False when constructing XGBClassifier object; and 2) Encode your labels (y) as integers starting with 0, i.e. 0, 1, 2, ..., [num_class - 1].\n",
      "  warnings.warn(label_encoder_deprecation_msg, UserWarning)\n",
      "/home/ldiasfer/anaconda3/envs/survival/lib/python3.10/site-packages/xgboost/data.py:250: FutureWarning: pandas.Int64Index is deprecated and will be removed from pandas in a future version. Use pandas.Index with the appropriate dtype instead.\n",
      "  elif isinstance(data.columns, (pd.Int64Index, pd.RangeIndex)):\n"
     ]
    },
    {
     "name": "stdout",
     "output_type": "stream",
     "text": [
      "[17:51:15] WARNING: ../src/learner.cc:1115: Starting in XGBoost 1.3.0, the default evaluation metric used with the objective 'binary:logistic' was changed from 'error' to 'logloss'. Explicitly set eval_metric if you'd like to restore the old behavior.\n"
     ]
    },
    {
     "name": "stderr",
     "output_type": "stream",
     "text": [
      "/home/ldiasfer/anaconda3/envs/survival/lib/python3.10/site-packages/xgboost/sklearn.py:1224: UserWarning: The use of label encoder in XGBClassifier is deprecated and will be removed in a future release. To remove this warning, do the following: 1) Pass option use_label_encoder=False when constructing XGBClassifier object; and 2) Encode your labels (y) as integers starting with 0, i.e. 0, 1, 2, ..., [num_class - 1].\n",
      "  warnings.warn(label_encoder_deprecation_msg, UserWarning)\n",
      "/home/ldiasfer/anaconda3/envs/survival/lib/python3.10/site-packages/xgboost/data.py:250: FutureWarning: pandas.Int64Index is deprecated and will be removed from pandas in a future version. Use pandas.Index with the appropriate dtype instead.\n",
      "  elif isinstance(data.columns, (pd.Int64Index, pd.RangeIndex)):\n"
     ]
    },
    {
     "name": "stdout",
     "output_type": "stream",
     "text": [
      "[18:03:46] WARNING: ../src/learner.cc:1115: Starting in XGBoost 1.3.0, the default evaluation metric used with the objective 'binary:logistic' was changed from 'error' to 'logloss'. Explicitly set eval_metric if you'd like to restore the old behavior.\n"
     ]
    },
    {
     "name": "stderr",
     "output_type": "stream",
     "text": [
      "/home/ldiasfer/anaconda3/envs/survival/lib/python3.10/site-packages/xgboost/sklearn.py:1224: UserWarning: The use of label encoder in XGBClassifier is deprecated and will be removed in a future release. To remove this warning, do the following: 1) Pass option use_label_encoder=False when constructing XGBClassifier object; and 2) Encode your labels (y) as integers starting with 0, i.e. 0, 1, 2, ..., [num_class - 1].\n",
      "  warnings.warn(label_encoder_deprecation_msg, UserWarning)\n",
      "/home/ldiasfer/anaconda3/envs/survival/lib/python3.10/site-packages/xgboost/data.py:250: FutureWarning: pandas.Int64Index is deprecated and will be removed from pandas in a future version. Use pandas.Index with the appropriate dtype instead.\n",
      "  elif isinstance(data.columns, (pd.Int64Index, pd.RangeIndex)):\n"
     ]
    },
    {
     "name": "stdout",
     "output_type": "stream",
     "text": [
      "[18:14:01] WARNING: ../src/learner.cc:1115: Starting in XGBoost 1.3.0, the default evaluation metric used with the objective 'binary:logistic' was changed from 'error' to 'logloss'. Explicitly set eval_metric if you'd like to restore the old behavior.\n"
     ]
    },
    {
     "name": "stderr",
     "output_type": "stream",
     "text": [
      "/home/ldiasfer/anaconda3/envs/survival/lib/python3.10/site-packages/xgboost/sklearn.py:1224: UserWarning: The use of label encoder in XGBClassifier is deprecated and will be removed in a future release. To remove this warning, do the following: 1) Pass option use_label_encoder=False when constructing XGBClassifier object; and 2) Encode your labels (y) as integers starting with 0, i.e. 0, 1, 2, ..., [num_class - 1].\n",
      "  warnings.warn(label_encoder_deprecation_msg, UserWarning)\n",
      "/home/ldiasfer/anaconda3/envs/survival/lib/python3.10/site-packages/xgboost/data.py:250: FutureWarning: pandas.Int64Index is deprecated and will be removed from pandas in a future version. Use pandas.Index with the appropriate dtype instead.\n",
      "  elif isinstance(data.columns, (pd.Int64Index, pd.RangeIndex)):\n"
     ]
    },
    {
     "name": "stdout",
     "output_type": "stream",
     "text": [
      "[18:24:20] WARNING: ../src/learner.cc:1115: Starting in XGBoost 1.3.0, the default evaluation metric used with the objective 'binary:logistic' was changed from 'error' to 'logloss'. Explicitly set eval_metric if you'd like to restore the old behavior.\n"
     ]
    },
    {
     "name": "stderr",
     "output_type": "stream",
     "text": [
      "/home/ldiasfer/anaconda3/envs/survival/lib/python3.10/site-packages/xgboost/sklearn.py:1224: UserWarning: The use of label encoder in XGBClassifier is deprecated and will be removed in a future release. To remove this warning, do the following: 1) Pass option use_label_encoder=False when constructing XGBClassifier object; and 2) Encode your labels (y) as integers starting with 0, i.e. 0, 1, 2, ..., [num_class - 1].\n",
      "  warnings.warn(label_encoder_deprecation_msg, UserWarning)\n",
      "/home/ldiasfer/anaconda3/envs/survival/lib/python3.10/site-packages/xgboost/data.py:250: FutureWarning: pandas.Int64Index is deprecated and will be removed from pandas in a future version. Use pandas.Index with the appropriate dtype instead.\n",
      "  elif isinstance(data.columns, (pd.Int64Index, pd.RangeIndex)):\n"
     ]
    },
    {
     "name": "stdout",
     "output_type": "stream",
     "text": [
      "[18:34:32] WARNING: ../src/learner.cc:1115: Starting in XGBoost 1.3.0, the default evaluation metric used with the objective 'binary:logistic' was changed from 'error' to 'logloss'. Explicitly set eval_metric if you'd like to restore the old behavior.\n"
     ]
    },
    {
     "name": "stderr",
     "output_type": "stream",
     "text": [
      "/home/ldiasfer/anaconda3/envs/survival/lib/python3.10/site-packages/xgboost/sklearn.py:1224: UserWarning: The use of label encoder in XGBClassifier is deprecated and will be removed in a future release. To remove this warning, do the following: 1) Pass option use_label_encoder=False when constructing XGBClassifier object; and 2) Encode your labels (y) as integers starting with 0, i.e. 0, 1, 2, ..., [num_class - 1].\n",
      "  warnings.warn(label_encoder_deprecation_msg, UserWarning)\n",
      "/home/ldiasfer/anaconda3/envs/survival/lib/python3.10/site-packages/xgboost/data.py:250: FutureWarning: pandas.Int64Index is deprecated and will be removed from pandas in a future version. Use pandas.Index with the appropriate dtype instead.\n",
      "  elif isinstance(data.columns, (pd.Int64Index, pd.RangeIndex)):\n"
     ]
    },
    {
     "name": "stdout",
     "output_type": "stream",
     "text": [
      "[18:44:45] WARNING: ../src/learner.cc:1115: Starting in XGBoost 1.3.0, the default evaluation metric used with the objective 'binary:logistic' was changed from 'error' to 'logloss'. Explicitly set eval_metric if you'd like to restore the old behavior.\n"
     ]
    }
   ],
   "source": [
    "xgb2 = XGBClassifier(n_estimators=1000, max_depth=6, random_state=42)\n",
    "\n",
    "xgb2.fit(Xtrain,ytrain)\n",
    "cvxgb2 = cross_val_score(xgb2, Xtrain, ytrain, scoring='f1', cv=5)"
   ]
  },
  {
   "cell_type": "code",
   "execution_count": 193,
   "id": "6b2e43e9",
   "metadata": {},
   "outputs": [
    {
     "name": "stdout",
     "output_type": "stream",
     "text": [
      "0.9313489457941198\n",
      "0.8338878524405423\n"
     ]
    }
   ],
   "source": [
    "print(f1_score(ytrain,xgb2.predict(Xtrain)))\n",
    "print(cvxgb2.mean())"
   ]
  },
  {
   "cell_type": "markdown",
   "id": "f7ce98f0",
   "metadata": {},
   "source": [
    "O ajuste dos hiperparametros levou a um aumento de 0.02 do F1-score na validacao cruzada. O score tambem aumentou no conjunto de treino, aumentando a distancia nos scores do treino e da avaliacao cruzada, o que sugere tendencia de overfit do conjunto de treino. Para a performance no conjunto de teste, temos:"
   ]
  },
  {
   "cell_type": "code",
   "execution_count": 196,
   "id": "dc3c6a5d",
   "metadata": {},
   "outputs": [
    {
     "name": "stdout",
     "output_type": "stream",
     "text": [
      "[[0.57425658 0.05220901]\n",
      " [0.06677995 0.30675446]]\n",
      "0.837557269616656\n"
     ]
    }
   ],
   "source": [
    "print(confusion_matrix(ytest,xgb2.predict(Xtest))/ytest.shape[0])\n",
    "print(f1_score(ytest,xgb2.predict(Xtest)))"
   ]
  },
  {
   "cell_type": "markdown",
   "id": "1ed9d528",
   "metadata": {},
   "source": [
    "O XGBoost com ajuste de hiperparametros (xgb2) apresenta uma boa performance no conjunto de teste, com um F1-score de aproximadamente 0.84. Em comparacao com o melhor modelo de Random Forest (rfc), com um F1-score muito similar, o modelo xgb2 apresenta uma classificacao ligeiramente melhor na classe 1 e ligeiramente pior na classe 2. O xgb2 tambem apresenta uma diferenca menor entre performances de treino e validacao cruzada no treino, em comparacao com o modelo rfc, indicando menor overfit no conjunto de treino."
   ]
  },
  {
   "cell_type": "markdown",
   "id": "be643f21",
   "metadata": {},
   "source": [
    "Podemos testar tambem como esse modelo performa em comparacao com um benchmark aleatorio. Para um modelo nulo aleatorio, poderiamos estabelecer que a classe de cancelamento de uma nova instancia seria 0 ou 1 com uma probabilidade equivalente a proporcao dessas duas classes em ytrain. \n",
    "\n",
    "Para esse benchmark, a metrica ROC-AUC equivale a aproximadamente 0.5, de modo que um modelo que apresente uma ROC-AUC maior que 0.5 eh melhor que o modelo naive aleatorio. Temos:"
   ]
  },
  {
   "cell_type": "code",
   "execution_count": 203,
   "id": "94f105eb",
   "metadata": {},
   "outputs": [
    {
     "name": "stdout",
     "output_type": "stream",
     "text": [
      "0    0.630462\n",
      "1    0.369538\n",
      "Name: cancellation, dtype: float64\n",
      "94158\n",
      "23540\n"
     ]
    }
   ],
   "source": [
    "print(ytrain.value_counts()/ytrain.shape[0])\n",
    "print(ytrain.shape[0])\n",
    "print(ytest.shape[0])\n",
    "\n",
    "yrand = np.random.choice(2,ytest.shape[0],\n",
    "            p=[(ytrain.value_counts()/ytrain.shape[0]).iloc[0],(ytrain.value_counts()/ytrain.shape[0]).iloc[1]])"
   ]
  },
  {
   "cell_type": "code",
   "execution_count": 205,
   "id": "ca5aebdb",
   "metadata": {},
   "outputs": [
    {
     "name": "stdout",
     "output_type": "stream",
     "text": [
      "0.5030752823249036\n",
      "0.8689412209671243\n"
     ]
    }
   ],
   "source": [
    "from sklearn.metrics import roc_auc_score\n",
    "\n",
    "print(roc_auc_score(ytest,yrand))\n",
    "print(roc_auc_score(ytest,xgb2.predict(Xtest)))"
   ]
  },
  {
   "cell_type": "markdown",
   "id": "e016cc93",
   "metadata": {},
   "source": [
    "Assim, vemos que o modelo xgb2 performa substancialmente melhor que o benchmark."
   ]
  },
  {
   "cell_type": "markdown",
   "id": "06c16cd5",
   "metadata": {},
   "source": [
    "# Further Improvements"
   ]
  },
  {
   "cell_type": "markdown",
   "id": "304d97c2",
   "metadata": {},
   "source": [
    "Algumas estrategias poderiam ser adotadas na busca de melhorar a performance do modelo. Essas estrategias foram aqui testadas apenas de maneira preliminar devido a limitacao do tempo, mas sao apresentadas como possiveis proximos passos nessa analise.\n",
    "\n",
    "    1. Uma possibilidade seria focar na reducao da dimensionalidade do conjunto de dados, uma vez que o numero de features salta para 908 apos a adicao das dummy variables. Uma primeira tentativa de reducao do numero de features por PCA (apos standardizacao das features) nao mostrou um cutoff claro atraves da analise da variancia explicada acumulada. Estabelecendo um cutoff de 80% da variancia explicada, foi possivel reduzir o numero de features para approximadamente 600. As features transformadas por componentes principais, entretanto, nao levaram a um ganho de performance significativo nos modelos de classificacao, pelo menos numa analise preliminar.\n",
    "    \n",
    "    Uma outra tentativa de reducao da dimensionalidade focaria no agrupamento de valores para algumas das features. As features \"id_travel_agency_booking\" e \"id_person_booking\" possuem um numero muito grande de identificadores que aparecem em apenas uma ou poucas reservas. Identificadores que apresentam um numero total de reservas menores que 10, por exemplo, poderiam ser agrupadoes em categorias \"not-frequent-person\" e \"not-frequent-agency\", reduzindo significativamente o numero de dummy variables associados a categorias raras nessas variaveis. Esse procedimento tambem se justifica pelo fato que a probabilidade de classe 0 no cancelamento para essas categorias pouco frequentes eh muito maior do que pra classe 1, mostrando que esse grupo apresenta certa coesao.\n",
    "    \n",
    "    Uma reducao drastica no numero de features, mantendo a variabilidade do conjunto de dados, poderia levar a uma melhora da performance do modelo.\n",
    "    \n",
    "    2. Outra possibilidade, enunciada na secao acima, seria implementar um ajuste mais rigoroso dos hiperparametros. Isso poderia ser feito em tres etapas: (i) escolha do modelo com mais potencial de melhora, atraves de uma selecao preliminar, (ii) implementacao de RandomSearchCV para busca em intervalos maiores do espaco de parametros e (iii) GridSearchCV nas proximidades do melhor conjunto de parametros identificada no item (ii).\n",
    "    \n",
    "    3. Uma vantagem de usar modelos de ensembles baseados em arvores de decisao, como Random Forest e XGBoost, eh que eles proporcionam medidas de importancia de features atraves da analise do conjunto de features mais utilizadas no ensemble, apos treinamento do modelo. Uma analise das importancias das features atribuidas ao modelo selecionado poderia prover mais insights para estrategias de intervencao do cliente, atuando para minimizar o numero de cancelamentos na rede de hoteis."
   ]
  },
  {
   "cell_type": "markdown",
   "id": "74f6af4c",
   "metadata": {},
   "source": [
    "# Conclusion"
   ]
  },
  {
   "cell_type": "markdown",
   "id": "5fea8d10",
   "metadata": {},
   "source": [
    "A partir dessa analise, selecionamos o modelo XGBoost com ajuste de hiperparametros (xgb2) por apresentar boa performance no conjunto de teste e um menor overfitting, comparado com o melhor modelo de Random Forest. Esse modelo eh capaz de prever o cancelamento, com bom precision e recall, de novas instancias de reservas feitas por clientes na rede de hoteis. \n",
    "\n",
    "Consta tambem nessa analise uma exploracao dos dados fornecidos, indicando possiveis alternativas de intervencao preliminares, que podem ser complementadas com analise posterior das caracteristicas do modelo treinado (veja comentario sobre feature importances na secao anterior). Por fim, algumas possibilidades de melhorias no modelo sao listadas como proximos passos na implementacao."
   ]
  }
 ],
 "metadata": {
  "kernelspec": {
   "display_name": "Python 3",
   "language": "python",
   "name": "python3"
  },
  "language_info": {
   "codemirror_mode": {
    "name": "ipython",
    "version": 3
   },
   "file_extension": ".py",
   "mimetype": "text/x-python",
   "name": "python",
   "nbconvert_exporter": "python",
   "pygments_lexer": "ipython3",
   "version": "3.10.0"
  }
 },
 "nbformat": 4,
 "nbformat_minor": 5
}
